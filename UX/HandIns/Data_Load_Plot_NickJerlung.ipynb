{
 "cells": [
  {
   "cell_type": "markdown",
   "id": "f2a8cc6751c1f9ee",
   "metadata": {},
   "source": [
    "# Assignment: Data-Load-Plot-CI\n",
    "\n",
    "by Nick Lee Jerlung"
   ]
  },
  {
   "cell_type": "code",
   "id": "924d62b99746f877",
   "metadata": {
    "ExecuteTime": {
     "end_time": "2025-03-18T16:38:17.813764Z",
     "start_time": "2025-03-18T16:38:17.799782Z"
    }
   },
   "source": [
    "# Import the necessary libraries\n",
    "%matplotlib inline\n",
    "import numpy as np\n",
    "import pandas as pd\n",
    "import matplotlib.pyplot as plt"
   ],
   "outputs": [],
   "execution_count": 28
  },
  {
   "metadata": {},
   "cell_type": "markdown",
   "source": "## 1 - Load the data",
   "id": "6564057d98eb95fe"
  },
  {
   "cell_type": "code",
   "id": "10d42376dc6f2773",
   "metadata": {
    "ExecuteTime": {
     "end_time": "2025-03-18T16:38:17.867815Z",
     "start_time": "2025-03-18T16:38:17.822378Z"
    }
   },
   "source": [
    "# Load the data from the Excel file\n",
    "data = pd.read_excel(\"data/Demographic-data-Med2.xlsx\", usecols=[1,2,3])\n",
    "\n",
    "# Print the first five lines in data to establish what the data looks like\n",
    "data.head(5)"
   ],
   "outputs": [
    {
     "data": {
      "text/plain": [
       "   (Age) How old are you?  (Height) How tall are you (in cm)?  \\\n",
       "0                      24                                 190   \n",
       "1                      21                                 188   \n",
       "2                      24                                 183   \n",
       "3                      22                                 183   \n",
       "4                      25                                 192   \n",
       "\n",
       "  (Birthday) Is your birthday (day of month) on an even or odd date?  \n",
       "0                                                Odd                  \n",
       "1                                                Odd                  \n",
       "2                                                Odd                  \n",
       "3                                                Odd                  \n",
       "4                                               Even                  "
      ],
      "text/html": [
       "<div>\n",
       "<style scoped>\n",
       "    .dataframe tbody tr th:only-of-type {\n",
       "        vertical-align: middle;\n",
       "    }\n",
       "\n",
       "    .dataframe tbody tr th {\n",
       "        vertical-align: top;\n",
       "    }\n",
       "\n",
       "    .dataframe thead th {\n",
       "        text-align: right;\n",
       "    }\n",
       "</style>\n",
       "<table border=\"1\" class=\"dataframe\">\n",
       "  <thead>\n",
       "    <tr style=\"text-align: right;\">\n",
       "      <th></th>\n",
       "      <th>(Age) How old are you?</th>\n",
       "      <th>(Height) How tall are you (in cm)?</th>\n",
       "      <th>(Birthday) Is your birthday (day of month) on an even or odd date?</th>\n",
       "    </tr>\n",
       "  </thead>\n",
       "  <tbody>\n",
       "    <tr>\n",
       "      <th>0</th>\n",
       "      <td>24</td>\n",
       "      <td>190</td>\n",
       "      <td>Odd</td>\n",
       "    </tr>\n",
       "    <tr>\n",
       "      <th>1</th>\n",
       "      <td>21</td>\n",
       "      <td>188</td>\n",
       "      <td>Odd</td>\n",
       "    </tr>\n",
       "    <tr>\n",
       "      <th>2</th>\n",
       "      <td>24</td>\n",
       "      <td>183</td>\n",
       "      <td>Odd</td>\n",
       "    </tr>\n",
       "    <tr>\n",
       "      <th>3</th>\n",
       "      <td>22</td>\n",
       "      <td>183</td>\n",
       "      <td>Odd</td>\n",
       "    </tr>\n",
       "    <tr>\n",
       "      <th>4</th>\n",
       "      <td>25</td>\n",
       "      <td>192</td>\n",
       "      <td>Even</td>\n",
       "    </tr>\n",
       "  </tbody>\n",
       "</table>\n",
       "</div>"
      ]
     },
     "execution_count": 29,
     "metadata": {},
     "output_type": "execute_result"
    }
   ],
   "execution_count": 29
  },
  {
   "cell_type": "code",
   "id": "5b20c6740381f9c5",
   "metadata": {
    "ExecuteTime": {
     "end_time": "2025-03-18T16:38:17.904322Z",
     "start_time": "2025-03-18T16:38:17.902037Z"
    }
   },
   "source": [
    "# Check how many rows and columns in all\n",
    "data.shape"
   ],
   "outputs": [
    {
     "data": {
      "text/plain": [
       "(34, 3)"
      ]
     },
     "execution_count": 30,
     "metadata": {},
     "output_type": "execute_result"
    }
   ],
   "execution_count": 30
  },
  {
   "cell_type": "code",
   "id": "e50bdd65dc58cb1d",
   "metadata": {
    "ExecuteTime": {
     "end_time": "2025-03-18T16:38:18.035164Z",
     "start_time": "2025-03-18T16:38:18.026160Z"
    }
   },
   "source": [
    "# Convert to data frame and describe the data\n",
    "df = pd.DataFrame(data)\n",
    "df.describe()"
   ],
   "outputs": [
    {
     "data": {
      "text/plain": [
       "       (Age) How old are you?  (Height) How tall are you (in cm)?\n",
       "count               34.000000                           34.000000\n",
       "mean                22.823529                          181.500000\n",
       "std                  3.849208                            9.336309\n",
       "min                 19.000000                          159.000000\n",
       "25%                 21.000000                          176.500000\n",
       "50%                 22.000000                          182.500000\n",
       "75%                 23.000000                          188.000000\n",
       "max                 40.000000                          200.000000"
      ],
      "text/html": [
       "<div>\n",
       "<style scoped>\n",
       "    .dataframe tbody tr th:only-of-type {\n",
       "        vertical-align: middle;\n",
       "    }\n",
       "\n",
       "    .dataframe tbody tr th {\n",
       "        vertical-align: top;\n",
       "    }\n",
       "\n",
       "    .dataframe thead th {\n",
       "        text-align: right;\n",
       "    }\n",
       "</style>\n",
       "<table border=\"1\" class=\"dataframe\">\n",
       "  <thead>\n",
       "    <tr style=\"text-align: right;\">\n",
       "      <th></th>\n",
       "      <th>(Age) How old are you?</th>\n",
       "      <th>(Height) How tall are you (in cm)?</th>\n",
       "    </tr>\n",
       "  </thead>\n",
       "  <tbody>\n",
       "    <tr>\n",
       "      <th>count</th>\n",
       "      <td>34.000000</td>\n",
       "      <td>34.000000</td>\n",
       "    </tr>\n",
       "    <tr>\n",
       "      <th>mean</th>\n",
       "      <td>22.823529</td>\n",
       "      <td>181.500000</td>\n",
       "    </tr>\n",
       "    <tr>\n",
       "      <th>std</th>\n",
       "      <td>3.849208</td>\n",
       "      <td>9.336309</td>\n",
       "    </tr>\n",
       "    <tr>\n",
       "      <th>min</th>\n",
       "      <td>19.000000</td>\n",
       "      <td>159.000000</td>\n",
       "    </tr>\n",
       "    <tr>\n",
       "      <th>25%</th>\n",
       "      <td>21.000000</td>\n",
       "      <td>176.500000</td>\n",
       "    </tr>\n",
       "    <tr>\n",
       "      <th>50%</th>\n",
       "      <td>22.000000</td>\n",
       "      <td>182.500000</td>\n",
       "    </tr>\n",
       "    <tr>\n",
       "      <th>75%</th>\n",
       "      <td>23.000000</td>\n",
       "      <td>188.000000</td>\n",
       "    </tr>\n",
       "    <tr>\n",
       "      <th>max</th>\n",
       "      <td>40.000000</td>\n",
       "      <td>200.000000</td>\n",
       "    </tr>\n",
       "  </tbody>\n",
       "</table>\n",
       "</div>"
      ]
     },
     "execution_count": 31,
     "metadata": {},
     "output_type": "execute_result"
    }
   ],
   "execution_count": 31
  },
  {
   "metadata": {},
   "cell_type": "markdown",
   "source": "## 2 - Remove the outliers",
   "id": "e28612df46949a29"
  },
  {
   "cell_type": "code",
   "id": "9a4b15e7b84aa759",
   "metadata": {
    "ExecuteTime": {
     "end_time": "2025-03-18T16:38:18.093736Z",
     "start_time": "2025-03-18T16:38:18.092017Z"
    }
   },
   "source": "# Remove the outliers\n",
   "outputs": [],
   "execution_count": null
  }
 ],
 "metadata": {
  "kernelspec": {
   "display_name": "Python 3 (ipykernel)",
   "language": "python",
   "name": "python3"
  },
  "language_info": {
   "codemirror_mode": {
    "name": "ipython",
    "version": 3
   },
   "file_extension": ".py",
   "mimetype": "text/x-python",
   "name": "python",
   "nbconvert_exporter": "python",
   "pygments_lexer": "ipython3",
   "version": "3.9.12"
  }
 },
 "nbformat": 4,
 "nbformat_minor": 5
}
