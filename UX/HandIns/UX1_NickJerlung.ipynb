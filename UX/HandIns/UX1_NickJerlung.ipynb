{
 "cells": [
  {
   "metadata": {},
   "cell_type": "markdown",
   "source": [
    "# UX1\n",
    "Nick Lee Jerlung"
   ],
   "id": "c26f8361c9ad6587"
  },
  {
   "metadata": {
    "ExecuteTime": {
     "end_time": "2025-02-23T10:12:08.456714Z",
     "start_time": "2025-02-23T10:12:08.452218Z"
    }
   },
   "cell_type": "code",
   "source": [
    "# Setup\n",
    "import pandas as pd"
   ],
   "id": "5f3588d6e6a3d1a0",
   "outputs": [],
   "execution_count": 12
  },
  {
   "metadata": {},
   "cell_type": "markdown",
   "source": [
    "## The assignment\n",
    "I've gathered data from 5 friends.\n",
    "\n",
    "- 1\n",
    "  - Age: 33\n",
    "  - Height: 197\n",
    "  - MobileOS: iOS\n",
    "- 2\n",
    "  - Age: 38\n",
    "  - Height: 185\n",
    "  - MobileOS: iOS\n",
    "- 3\n",
    "  - Age: 29\n",
    "  - Height: 178\n",
    "  - MobileOS: iOS\n",
    "- 4\n",
    "  - Age: 31\n",
    "  - Height: 182\n",
    "  - MobileOS: iOS\n",
    "- 5\n",
    "  - Age: 33\n",
    "  - Height: 174\n",
    "  - MobileOS: iOS\n",
    "\n",
    "\n"
   ],
   "id": "1ccf340139d2ac89"
  },
  {
   "cell_type": "code",
   "id": "initial_id",
   "metadata": {
    "collapsed": true,
    "ExecuteTime": {
     "end_time": "2025-02-23T10:12:08.478833Z",
     "start_time": "2025-02-23T10:12:08.465175Z"
    }
   },
   "source": [
    "# Store the data in a dictionary\n",
    "data = {'Age': [33, 38, 29, 31, 33],\n",
    "       'Height': [197, 185, 178, 182, 174],\n",
    "       'MobileOS': ['iOS', 'iOS', 'iOS', 'iOS', 'iOS']}\n",
    "\n",
    "# Create a Pandas dataframe from the data\n",
    "df = pd.DataFrame(data)\n",
    "\n",
    "# Print the size of the dataframe\n",
    "size = df.shape\n",
    "\n",
    "# Show descriptive statistics of the dataframe\n",
    "description = df.describe()\n",
    "\n",
    "# Print the size and the descriptive statistics\n",
    "print(\"Dataframe size:\", size)\n",
    "print(\"\\nDataframe description\\n\", description)\n",
    "\n",
    "# Display the dataframe\n",
    "df\n"
   ],
   "outputs": [
    {
     "name": "stdout",
     "output_type": "stream",
     "text": [
      "Dataframe size: (5, 3)\n",
      "\n",
      "Dataframe description\n",
      "             Age      Height\n",
      "count   5.00000    5.000000\n",
      "mean   32.80000  183.200000\n",
      "std     3.34664    8.757854\n",
      "min    29.00000  174.000000\n",
      "25%    31.00000  178.000000\n",
      "50%    33.00000  182.000000\n",
      "75%    33.00000  185.000000\n",
      "max    38.00000  197.000000\n"
     ]
    },
    {
     "data": {
      "text/plain": [
       "   Age  Height MobileOS\n",
       "0   33     197      iOS\n",
       "1   38     185      iOS\n",
       "2   29     178      iOS\n",
       "3   31     182      iOS\n",
       "4   33     174      iOS"
      ],
      "text/html": [
       "<div>\n",
       "<style scoped>\n",
       "    .dataframe tbody tr th:only-of-type {\n",
       "        vertical-align: middle;\n",
       "    }\n",
       "\n",
       "    .dataframe tbody tr th {\n",
       "        vertical-align: top;\n",
       "    }\n",
       "\n",
       "    .dataframe thead th {\n",
       "        text-align: right;\n",
       "    }\n",
       "</style>\n",
       "<table border=\"1\" class=\"dataframe\">\n",
       "  <thead>\n",
       "    <tr style=\"text-align: right;\">\n",
       "      <th></th>\n",
       "      <th>Age</th>\n",
       "      <th>Height</th>\n",
       "      <th>MobileOS</th>\n",
       "    </tr>\n",
       "  </thead>\n",
       "  <tbody>\n",
       "    <tr>\n",
       "      <th>0</th>\n",
       "      <td>33</td>\n",
       "      <td>197</td>\n",
       "      <td>iOS</td>\n",
       "    </tr>\n",
       "    <tr>\n",
       "      <th>1</th>\n",
       "      <td>38</td>\n",
       "      <td>185</td>\n",
       "      <td>iOS</td>\n",
       "    </tr>\n",
       "    <tr>\n",
       "      <th>2</th>\n",
       "      <td>29</td>\n",
       "      <td>178</td>\n",
       "      <td>iOS</td>\n",
       "    </tr>\n",
       "    <tr>\n",
       "      <th>3</th>\n",
       "      <td>31</td>\n",
       "      <td>182</td>\n",
       "      <td>iOS</td>\n",
       "    </tr>\n",
       "    <tr>\n",
       "      <th>4</th>\n",
       "      <td>33</td>\n",
       "      <td>174</td>\n",
       "      <td>iOS</td>\n",
       "    </tr>\n",
       "  </tbody>\n",
       "</table>\n",
       "</div>"
      ]
     },
     "execution_count": 13,
     "metadata": {},
     "output_type": "execute_result"
    }
   ],
   "execution_count": 13
  },
  {
   "metadata": {},
   "cell_type": "markdown",
   "source": "## Questions",
   "id": "a23e5b4b8a973ab"
  },
  {
   "metadata": {},
   "cell_type": "markdown",
   "source": [
    "### What type of sampling/recruitment method did you use?\n",
    "This would classify as convenience sampling, due to it being a couple of friends i met with doing the week."
   ],
   "id": "bcca279c28d3f117"
  },
  {
   "metadata": {},
   "cell_type": "markdown",
   "source": [
    "### What could be potential bias in your sample?\n",
    "I know no people who uses anything but iOS. Most of my friends are in an limited age range close to my own. Also a very small sample size."
   ],
   "id": "60f2bbdce5a2ee4c"
  }
 ],
 "metadata": {
  "kernelspec": {
   "display_name": "Python 3",
   "language": "python",
   "name": "python3"
  },
  "language_info": {
   "codemirror_mode": {
    "name": "ipython",
    "version": 2
   },
   "file_extension": ".py",
   "mimetype": "text/x-python",
   "name": "python",
   "nbconvert_exporter": "python",
   "pygments_lexer": "ipython2",
   "version": "2.7.6"
  }
 },
 "nbformat": 4,
 "nbformat_minor": 5
}
