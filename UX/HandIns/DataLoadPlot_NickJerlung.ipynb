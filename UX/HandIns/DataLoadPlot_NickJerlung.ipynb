{
 "cells": [
  {
   "cell_type": "markdown",
   "id": "f2a8cc6751c1f9ee",
   "metadata": {},
   "source": [
    "# Assignment: Data-Load-Plot-CI\n",
    "\n",
    "by Nick Lee Jerlung"
   ]
  },
  {
   "cell_type": "code",
   "id": "924d62b99746f877",
   "metadata": {
    "ExecuteTime": {
     "end_time": "2025-03-18T23:05:48.145965Z",
     "start_time": "2025-03-18T23:05:48.135244Z"
    }
   },
   "source": [
    "# Import the necessary libraries\n",
    "%matplotlib inline\n",
    "import numpy as np\n",
    "import pandas as pd\n",
    "import matplotlib.pyplot as plt\n",
    "import scipy.stats as st"
   ],
   "outputs": [],
   "execution_count": 111
  },
  {
   "metadata": {},
   "cell_type": "markdown",
   "source": "## 1 - Load the data",
   "id": "6564057d98eb95fe"
  },
  {
   "cell_type": "code",
   "id": "10d42376dc6f2773",
   "metadata": {
    "ExecuteTime": {
     "end_time": "2025-03-18T23:05:48.195982Z",
     "start_time": "2025-03-18T23:05:48.166894Z"
    }
   },
   "source": [
    "# Load the data from the Excel file\n",
    "data = pd.read_excel(\"data/Demographic-data-Med2.xlsx\", usecols=[1,2,3])\n",
    "\n",
    "# Print the first five lines in data to establish what the data looks like\n",
    "data.head(5)"
   ],
   "outputs": [
    {
     "data": {
      "text/plain": [
       "   (Age) How old are you?  (Height) How tall are you (in cm)?  \\\n",
       "0                      24                                 190   \n",
       "1                      21                                 188   \n",
       "2                      24                                 183   \n",
       "3                      22                                 183   \n",
       "4                      25                                 192   \n",
       "\n",
       "  (Birthday) Is your birthday (day of month) on an even or odd date?  \n",
       "0                                                Odd                  \n",
       "1                                                Odd                  \n",
       "2                                                Odd                  \n",
       "3                                                Odd                  \n",
       "4                                               Even                  "
      ],
      "text/html": [
       "<div>\n",
       "<style scoped>\n",
       "    .dataframe tbody tr th:only-of-type {\n",
       "        vertical-align: middle;\n",
       "    }\n",
       "\n",
       "    .dataframe tbody tr th {\n",
       "        vertical-align: top;\n",
       "    }\n",
       "\n",
       "    .dataframe thead th {\n",
       "        text-align: right;\n",
       "    }\n",
       "</style>\n",
       "<table border=\"1\" class=\"dataframe\">\n",
       "  <thead>\n",
       "    <tr style=\"text-align: right;\">\n",
       "      <th></th>\n",
       "      <th>(Age) How old are you?</th>\n",
       "      <th>(Height) How tall are you (in cm)?</th>\n",
       "      <th>(Birthday) Is your birthday (day of month) on an even or odd date?</th>\n",
       "    </tr>\n",
       "  </thead>\n",
       "  <tbody>\n",
       "    <tr>\n",
       "      <th>0</th>\n",
       "      <td>24</td>\n",
       "      <td>190</td>\n",
       "      <td>Odd</td>\n",
       "    </tr>\n",
       "    <tr>\n",
       "      <th>1</th>\n",
       "      <td>21</td>\n",
       "      <td>188</td>\n",
       "      <td>Odd</td>\n",
       "    </tr>\n",
       "    <tr>\n",
       "      <th>2</th>\n",
       "      <td>24</td>\n",
       "      <td>183</td>\n",
       "      <td>Odd</td>\n",
       "    </tr>\n",
       "    <tr>\n",
       "      <th>3</th>\n",
       "      <td>22</td>\n",
       "      <td>183</td>\n",
       "      <td>Odd</td>\n",
       "    </tr>\n",
       "    <tr>\n",
       "      <th>4</th>\n",
       "      <td>25</td>\n",
       "      <td>192</td>\n",
       "      <td>Even</td>\n",
       "    </tr>\n",
       "  </tbody>\n",
       "</table>\n",
       "</div>"
      ]
     },
     "execution_count": 112,
     "metadata": {},
     "output_type": "execute_result"
    }
   ],
   "execution_count": 112
  },
  {
   "cell_type": "code",
   "id": "5b20c6740381f9c5",
   "metadata": {
    "ExecuteTime": {
     "end_time": "2025-03-18T23:05:48.227621Z",
     "start_time": "2025-03-18T23:05:48.225396Z"
    }
   },
   "source": [
    "# Check how many rows and columns in all\n",
    "data.shape"
   ],
   "outputs": [
    {
     "data": {
      "text/plain": [
       "(34, 3)"
      ]
     },
     "execution_count": 113,
     "metadata": {},
     "output_type": "execute_result"
    }
   ],
   "execution_count": 113
  },
  {
   "cell_type": "code",
   "id": "e50bdd65dc58cb1d",
   "metadata": {
    "ExecuteTime": {
     "end_time": "2025-03-18T23:05:48.271828Z",
     "start_time": "2025-03-18T23:05:48.263320Z"
    }
   },
   "source": [
    "# Convert to data frame and describe the data\n",
    "df = pd.DataFrame(data)\n",
    "df.describe()"
   ],
   "outputs": [
    {
     "data": {
      "text/plain": [
       "       (Age) How old are you?  (Height) How tall are you (in cm)?\n",
       "count               34.000000                           34.000000\n",
       "mean                22.823529                          181.500000\n",
       "std                  3.849208                            9.336309\n",
       "min                 19.000000                          159.000000\n",
       "25%                 21.000000                          176.500000\n",
       "50%                 22.000000                          182.500000\n",
       "75%                 23.000000                          188.000000\n",
       "max                 40.000000                          200.000000"
      ],
      "text/html": [
       "<div>\n",
       "<style scoped>\n",
       "    .dataframe tbody tr th:only-of-type {\n",
       "        vertical-align: middle;\n",
       "    }\n",
       "\n",
       "    .dataframe tbody tr th {\n",
       "        vertical-align: top;\n",
       "    }\n",
       "\n",
       "    .dataframe thead th {\n",
       "        text-align: right;\n",
       "    }\n",
       "</style>\n",
       "<table border=\"1\" class=\"dataframe\">\n",
       "  <thead>\n",
       "    <tr style=\"text-align: right;\">\n",
       "      <th></th>\n",
       "      <th>(Age) How old are you?</th>\n",
       "      <th>(Height) How tall are you (in cm)?</th>\n",
       "    </tr>\n",
       "  </thead>\n",
       "  <tbody>\n",
       "    <tr>\n",
       "      <th>count</th>\n",
       "      <td>34.000000</td>\n",
       "      <td>34.000000</td>\n",
       "    </tr>\n",
       "    <tr>\n",
       "      <th>mean</th>\n",
       "      <td>22.823529</td>\n",
       "      <td>181.500000</td>\n",
       "    </tr>\n",
       "    <tr>\n",
       "      <th>std</th>\n",
       "      <td>3.849208</td>\n",
       "      <td>9.336309</td>\n",
       "    </tr>\n",
       "    <tr>\n",
       "      <th>min</th>\n",
       "      <td>19.000000</td>\n",
       "      <td>159.000000</td>\n",
       "    </tr>\n",
       "    <tr>\n",
       "      <th>25%</th>\n",
       "      <td>21.000000</td>\n",
       "      <td>176.500000</td>\n",
       "    </tr>\n",
       "    <tr>\n",
       "      <th>50%</th>\n",
       "      <td>22.000000</td>\n",
       "      <td>182.500000</td>\n",
       "    </tr>\n",
       "    <tr>\n",
       "      <th>75%</th>\n",
       "      <td>23.000000</td>\n",
       "      <td>188.000000</td>\n",
       "    </tr>\n",
       "    <tr>\n",
       "      <th>max</th>\n",
       "      <td>40.000000</td>\n",
       "      <td>200.000000</td>\n",
       "    </tr>\n",
       "  </tbody>\n",
       "</table>\n",
       "</div>"
      ]
     },
     "execution_count": 114,
     "metadata": {},
     "output_type": "execute_result"
    }
   ],
   "execution_count": 114
  },
  {
   "metadata": {},
   "cell_type": "markdown",
   "source": "## 2 - Remove the outliers",
   "id": "e28612df46949a29"
  },
  {
   "cell_type": "code",
   "id": "9a4b15e7b84aa759",
   "metadata": {
    "ExecuteTime": {
     "end_time": "2025-03-18T23:05:48.358953Z",
     "start_time": "2025-03-18T23:05:48.352087Z"
    }
   },
   "source": [
    "# First we define a function that removes outliers to avoid repeating code\n",
    "def remove_outliers(df, column):\n",
    "\tq1 = df[column].quantile(0.25) # First quartile\n",
    "\tq3 = df[column].quantile(0.75) # Third quartile\n",
    "\tiqr = q3 - q1 # Inter quartile range\n",
    "\n",
    "\tlower_bound = q1 - 1.5 * iqr\n",
    "\tupper_bound = q3 + 1.5 * iqr\n",
    "\n",
    "\tdf_no_outliers = df[(df[column] >= lower_bound) & (df[column] <= upper_bound)] # Remove outliers\n",
    "\n",
    "\treturn df_no_outliers\n",
    "\n",
    "# Use the function to remove outliers from the age and height columns\n",
    "dfCleanAge = remove_outliers(df, df.columns[0])\n",
    "dfCleanHeight = remove_outliers(df, df.columns[1])"
   ],
   "outputs": [],
   "execution_count": 115
  },
  {
   "metadata": {
    "ExecuteTime": {
     "end_time": "2025-03-18T23:05:48.417385Z",
     "start_time": "2025-03-18T23:05:48.413088Z"
    }
   },
   "cell_type": "code",
   "source": [
    "# Describe the cleaned age data\n",
    "dfCleanAge[df.columns[0]].describe()"
   ],
   "id": "f5bba6958247d391",
   "outputs": [
    {
     "data": {
      "text/plain": [
       "count    31.000000\n",
       "mean     21.838710\n",
       "std       1.529636\n",
       "min      19.000000\n",
       "25%      21.000000\n",
       "50%      22.000000\n",
       "75%      23.000000\n",
       "max      25.000000\n",
       "Name: (Age) How old are you?, dtype: float64"
      ]
     },
     "execution_count": 116,
     "metadata": {},
     "output_type": "execute_result"
    }
   ],
   "execution_count": 116
  },
  {
   "metadata": {
    "ExecuteTime": {
     "end_time": "2025-03-18T23:05:48.454626Z",
     "start_time": "2025-03-18T23:05:48.450498Z"
    }
   },
   "cell_type": "code",
   "source": [
    "# Describe the cleaned height data\n",
    "dfCleanHeight[df.columns[1]].describe()"
   ],
   "id": "4774a62a4f3b7c68",
   "outputs": [
    {
     "data": {
      "text/plain": [
       "count     33.000000\n",
       "mean     182.181818\n",
       "std        8.578514\n",
       "min      162.000000\n",
       "25%      178.000000\n",
       "50%      183.000000\n",
       "75%      188.000000\n",
       "max      200.000000\n",
       "Name: (Height) How tall are you (in cm)?, dtype: float64"
      ]
     },
     "execution_count": 117,
     "metadata": {},
     "output_type": "execute_result"
    }
   ],
   "execution_count": 117
  },
  {
   "metadata": {},
   "cell_type": "markdown",
   "source": "## 3 - Make box plots\n",
   "id": "d7d82cf449c94646"
  },
  {
   "metadata": {},
   "cell_type": "markdown",
   "source": "### Age data",
   "id": "14474f36b6ee1434"
  },
  {
   "metadata": {
    "ExecuteTime": {
     "end_time": "2025-03-18T23:05:48.558967Z",
     "start_time": "2025-03-18T23:05:48.499342Z"
    }
   },
   "cell_type": "code",
   "source": [
    "# Box plot of the original age data\n",
    "df.boxplot(column=df.columns[0])\n",
    "plt.title('Original Age')\n",
    "plt.show()"
   ],
   "id": "a1f677a203bc8d0d",
   "outputs": [
    {
     "data": {
      "text/plain": [
       "<Figure size 432x288 with 1 Axes>"
      ],
      "image/png": "[encoded data removed]"
     },
     "metadata": {
      "needs_background": "light"
     },
     "output_type": "display_data"
    }
   ],
   "execution_count": 118
  },
  {
   "metadata": {
    "ExecuteTime": {
     "end_time": "2025-03-18T23:05:48.616324Z",
     "start_time": "2025-03-18T23:05:48.573773Z"
    }
   },
   "cell_type": "code",
   "source": [
    "# Box plot of the cleaned age data\n",
    "dfCleanAge.boxplot(column=df.columns[0])\n",
    "plt.title('Cleaned Age')\n",
    "plt.show()"
   ],
   "id": "7c7849aeb22ee62f",
   "outputs": [
    {
     "data": {
      "text/plain": [
       "<Figure size 432x288 with 1 Axes>"
      ],
      "image/png": "[encoded data removed]"
     },
     "metadata": {
      "needs_background": "light"
     },
     "output_type": "display_data"
    }
   ],
   "execution_count": 119
  },
  {
   "metadata": {},
   "cell_type": "markdown",
   "source": "### Height data",
   "id": "389231b6b6ede954"
  },
  {
   "metadata": {
    "ExecuteTime": {
     "end_time": "2025-03-18T23:05:48.671332Z",
     "start_time": "2025-03-18T23:05:48.632636Z"
    }
   },
   "cell_type": "code",
   "source": [
    "# Box plot of the original height data\n",
    "df.boxplot(column=df.columns[1])\n",
    "plt.title('Original Height')\n",
    "plt.show()"
   ],
   "id": "7bee87372dd63b5a",
   "outputs": [
    {
     "data": {
      "text/plain": [
       "<Figure size 432x288 with 1 Axes>"
      ],
      "image/png": "[encoded data removed]"
     },
     "metadata": {
      "needs_background": "light"
     },
     "output_type": "display_data"
    }
   ],
   "execution_count": 120
  },
  {
   "metadata": {
    "ExecuteTime": {
     "end_time": "2025-03-18T23:05:48.718747Z",
     "start_time": "2025-03-18T23:05:48.678411Z"
    }
   },
   "cell_type": "code",
   "source": [
    "# Box plot of the cleaned height data\n",
    "dfCleanHeight.boxplot(column=df.columns[1])\n",
    "plt.title('Cleaned Height')\n",
    "plt.show()"
   ],
   "id": "591e3eb2444639f7",
   "outputs": [
    {
     "data": {
      "text/plain": [
       "<Figure size 432x288 with 1 Axes>"
      ],
      "image/png": "[encoded data removed]"
     },
     "metadata": {
      "needs_background": "light"
     },
     "output_type": "display_data"
    }
   ],
   "execution_count": 121
  },
  {
   "metadata": {},
   "cell_type": "markdown",
   "source": "## 4 - Calculate 95% confidence intervals for heights",
   "id": "dc75af49a8072c7a"
  },
  {
   "metadata": {
    "ExecuteTime": {
     "end_time": "2025-03-18T23:05:48.731518Z",
     "start_time": "2025-03-18T23:05:48.727595Z"
    }
   },
   "cell_type": "code",
   "source": [
    "# In the name of readability, we'll define the variables we need for the calculation\n",
    "height = dfCleanHeight[df.columns[1]] # The data\n",
    "\n",
    "n = len(height) # Number of data points\n",
    "mean = height.mean() # Mean\n",
    "std = height.std() # Standard deviation\n",
    "se = std / np.sqrt(n) # Standard error\n",
    "\n",
    "# t-value for 95% ci and n-1 because it's a sample\n",
    "t_value = st.t.ppf(1 - 0.025, df=n-1)\n",
    "\n",
    "# Margin of error\n",
    "margin_error = t_value * se\n",
    "\n",
    "# And now we can calculate the confidence interval\n",
    "confidence_interval = (mean - margin_error, mean + margin_error)\n",
    "\n",
    "print(\"95% Confidence Interval:\", confidence_interval)"
   ],
   "id": "36df85135e6d1752",
   "outputs": [
    {
     "name": "stdout",
     "output_type": "stream",
     "text": [
      "95% Confidence Interval: (179.14000924565616, 185.22362711798021)\n"
     ]
    }
   ],
   "execution_count": 122
  }
 ],
 "metadata": {
  "kernelspec": {
   "display_name": "Python 3 (ipykernel)",
   "language": "python",
   "name": "python3"
  },
  "language_info": {
   "codemirror_mode": {
    "name": "ipython",
    "version": 3
   },
   "file_extension": ".py",
   "mimetype": "text/x-python",
   "name": "python",
   "nbconvert_exporter": "python",
   "pygments_lexer": "ipython3",
   "version": "3.9.12"
  }
 },
 "nbformat": 4,
 "nbformat_minor": 5
}
