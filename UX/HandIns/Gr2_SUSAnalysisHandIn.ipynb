{
 "cells": [
  {
   "cell_type": "code",
   "id": "initial_id",
   "metadata": {
    "collapsed": true,
    "ExecuteTime": {
     "end_time": "2025-04-03T11:42:26.662120Z",
     "start_time": "2025-04-03T11:42:26.646880Z"
    }
   },
   "source": [
    "# Import the necessary libraries\n",
    "%matplotlib inline\n",
    "import numpy as np\n",
    "import pandas as pd\n",
    "import matplotlib.pyplot as plt\n",
    "import scipy.stats as stats\n"
   ],
   "outputs": [],
   "execution_count": 131
  },
  {
   "metadata": {
    "ExecuteTime": {
     "end_time": "2025-04-03T11:42:26.717663Z",
     "start_time": "2025-04-03T11:42:26.688289Z"
    }
   },
   "cell_type": "code",
   "source": [
    "# import the data\n",
    "data = pd.read_excel(\"data/SUS.xlsx\")\n",
    "data"
   ],
   "id": "4c74c8c99dd16cc5",
   "outputs": [
    {
     "data": {
      "text/plain": [
       "    User ID:  Q1  Q2  Q3  Q4  Q5  Q6  Q7  Q9  Q9.1  Q10\n",
       "0          1   2   4   4   4   3   4   4   4     4    4\n",
       "1          2   3   3   3   4   2   3   2   2     3    4\n",
       "2          2   3   2   3   3   3   3   3   3     3    4\n",
       "3          3   2   3   2   3   3   3   3   2     4    3\n",
       "4          4   3   4   4   4   4   4   4   4     3    3\n",
       "5          5   3   3   3   3   3   2   3   3     3    2\n",
       "6          6   3   3   3   3   3   3   4   4     3    4\n",
       "7          7   3   4   3   4   3   3   3   3     4    3\n",
       "8          8   2   3   3   3   3   3   4   2     3    3\n",
       "9          9   2   4   3   4   3   3   4   4     3    4\n",
       "10        10   2   2   2   3   3   2   3   2     2    2\n",
       "11        11   1   4   4   1   1   1   4   1     1    3\n",
       "12        12   3   3   3   4   3   3   4   4     3    4\n",
       "13        13   2   3   3   3   4   3   4   4     3    3\n",
       "14        14   1   3   3   3   2   3   3   3     3    2\n",
       "15        15   1   4   4   4   2   3   4   3     4    3\n",
       "16        16   2   4   4   4   4   4   4   4     4    4"
      ],
      "text/html": [
       "<div>\n",
       "<style scoped>\n",
       "    .dataframe tbody tr th:only-of-type {\n",
       "        vertical-align: middle;\n",
       "    }\n",
       "\n",
       "    .dataframe tbody tr th {\n",
       "        vertical-align: top;\n",
       "    }\n",
       "\n",
       "    .dataframe thead th {\n",
       "        text-align: right;\n",
       "    }\n",
       "</style>\n",
       "<table border=\"1\" class=\"dataframe\">\n",
       "  <thead>\n",
       "    <tr style=\"text-align: right;\">\n",
       "      <th></th>\n",
       "      <th>User ID:</th>\n",
       "      <th>Q1</th>\n",
       "      <th>Q2</th>\n",
       "      <th>Q3</th>\n",
       "      <th>Q4</th>\n",
       "      <th>Q5</th>\n",
       "      <th>Q6</th>\n",
       "      <th>Q7</th>\n",
       "      <th>Q9</th>\n",
       "      <th>Q9.1</th>\n",
       "      <th>Q10</th>\n",
       "    </tr>\n",
       "  </thead>\n",
       "  <tbody>\n",
       "    <tr>\n",
       "      <th>0</th>\n",
       "      <td>1</td>\n",
       "      <td>2</td>\n",
       "      <td>4</td>\n",
       "      <td>4</td>\n",
       "      <td>4</td>\n",
       "      <td>3</td>\n",
       "      <td>4</td>\n",
       "      <td>4</td>\n",
       "      <td>4</td>\n",
       "      <td>4</td>\n",
       "      <td>4</td>\n",
       "    </tr>\n",
       "    <tr>\n",
       "      <th>1</th>\n",
       "      <td>2</td>\n",
       "      <td>3</td>\n",
       "      <td>3</td>\n",
       "      <td>3</td>\n",
       "      <td>4</td>\n",
       "      <td>2</td>\n",
       "      <td>3</td>\n",
       "      <td>2</td>\n",
       "      <td>2</td>\n",
       "      <td>3</td>\n",
       "      <td>4</td>\n",
       "    </tr>\n",
       "    <tr>\n",
       "      <th>2</th>\n",
       "      <td>2</td>\n",
       "      <td>3</td>\n",
       "      <td>2</td>\n",
       "      <td>3</td>\n",
       "      <td>3</td>\n",
       "      <td>3</td>\n",
       "      <td>3</td>\n",
       "      <td>3</td>\n",
       "      <td>3</td>\n",
       "      <td>3</td>\n",
       "      <td>4</td>\n",
       "    </tr>\n",
       "    <tr>\n",
       "      <th>3</th>\n",
       "      <td>3</td>\n",
       "      <td>2</td>\n",
       "      <td>3</td>\n",
       "      <td>2</td>\n",
       "      <td>3</td>\n",
       "      <td>3</td>\n",
       "      <td>3</td>\n",
       "      <td>3</td>\n",
       "      <td>2</td>\n",
       "      <td>4</td>\n",
       "      <td>3</td>\n",
       "    </tr>\n",
       "    <tr>\n",
       "      <th>4</th>\n",
       "      <td>4</td>\n",
       "      <td>3</td>\n",
       "      <td>4</td>\n",
       "      <td>4</td>\n",
       "      <td>4</td>\n",
       "      <td>4</td>\n",
       "      <td>4</td>\n",
       "      <td>4</td>\n",
       "      <td>4</td>\n",
       "      <td>3</td>\n",
       "      <td>3</td>\n",
       "    </tr>\n",
       "    <tr>\n",
       "      <th>5</th>\n",
       "      <td>5</td>\n",
       "      <td>3</td>\n",
       "      <td>3</td>\n",
       "      <td>3</td>\n",
       "      <td>3</td>\n",
       "      <td>3</td>\n",
       "      <td>2</td>\n",
       "      <td>3</td>\n",
       "      <td>3</td>\n",
       "      <td>3</td>\n",
       "      <td>2</td>\n",
       "    </tr>\n",
       "    <tr>\n",
       "      <th>6</th>\n",
       "      <td>6</td>\n",
       "      <td>3</td>\n",
       "      <td>3</td>\n",
       "      <td>3</td>\n",
       "      <td>3</td>\n",
       "      <td>3</td>\n",
       "      <td>3</td>\n",
       "      <td>4</td>\n",
       "      <td>4</td>\n",
       "      <td>3</td>\n",
       "      <td>4</td>\n",
       "    </tr>\n",
       "    <tr>\n",
       "      <th>7</th>\n",
       "      <td>7</td>\n",
       "      <td>3</td>\n",
       "      <td>4</td>\n",
       "      <td>3</td>\n",
       "      <td>4</td>\n",
       "      <td>3</td>\n",
       "      <td>3</td>\n",
       "      <td>3</td>\n",
       "      <td>3</td>\n",
       "      <td>4</td>\n",
       "      <td>3</td>\n",
       "    </tr>\n",
       "    <tr>\n",
       "      <th>8</th>\n",
       "      <td>8</td>\n",
       "      <td>2</td>\n",
       "      <td>3</td>\n",
       "      <td>3</td>\n",
       "      <td>3</td>\n",
       "      <td>3</td>\n",
       "      <td>3</td>\n",
       "      <td>4</td>\n",
       "      <td>2</td>\n",
       "      <td>3</td>\n",
       "      <td>3</td>\n",
       "    </tr>\n",
       "    <tr>\n",
       "      <th>9</th>\n",
       "      <td>9</td>\n",
       "      <td>2</td>\n",
       "      <td>4</td>\n",
       "      <td>3</td>\n",
       "      <td>4</td>\n",
       "      <td>3</td>\n",
       "      <td>3</td>\n",
       "      <td>4</td>\n",
       "      <td>4</td>\n",
       "      <td>3</td>\n",
       "      <td>4</td>\n",
       "    </tr>\n",
       "    <tr>\n",
       "      <th>10</th>\n",
       "      <td>10</td>\n",
       "      <td>2</td>\n",
       "      <td>2</td>\n",
       "      <td>2</td>\n",
       "      <td>3</td>\n",
       "      <td>3</td>\n",
       "      <td>2</td>\n",
       "      <td>3</td>\n",
       "      <td>2</td>\n",
       "      <td>2</td>\n",
       "      <td>2</td>\n",
       "    </tr>\n",
       "    <tr>\n",
       "      <th>11</th>\n",
       "      <td>11</td>\n",
       "      <td>1</td>\n",
       "      <td>4</td>\n",
       "      <td>4</td>\n",
       "      <td>1</td>\n",
       "      <td>1</td>\n",
       "      <td>1</td>\n",
       "      <td>4</td>\n",
       "      <td>1</td>\n",
       "      <td>1</td>\n",
       "      <td>3</td>\n",
       "    </tr>\n",
       "    <tr>\n",
       "      <th>12</th>\n",
       "      <td>12</td>\n",
       "      <td>3</td>\n",
       "      <td>3</td>\n",
       "      <td>3</td>\n",
       "      <td>4</td>\n",
       "      <td>3</td>\n",
       "      <td>3</td>\n",
       "      <td>4</td>\n",
       "      <td>4</td>\n",
       "      <td>3</td>\n",
       "      <td>4</td>\n",
       "    </tr>\n",
       "    <tr>\n",
       "      <th>13</th>\n",
       "      <td>13</td>\n",
       "      <td>2</td>\n",
       "      <td>3</td>\n",
       "      <td>3</td>\n",
       "      <td>3</td>\n",
       "      <td>4</td>\n",
       "      <td>3</td>\n",
       "      <td>4</td>\n",
       "      <td>4</td>\n",
       "      <td>3</td>\n",
       "      <td>3</td>\n",
       "    </tr>\n",
       "    <tr>\n",
       "      <th>14</th>\n",
       "      <td>14</td>\n",
       "      <td>1</td>\n",
       "      <td>3</td>\n",
       "      <td>3</td>\n",
       "      <td>3</td>\n",
       "      <td>2</td>\n",
       "      <td>3</td>\n",
       "      <td>3</td>\n",
       "      <td>3</td>\n",
       "      <td>3</td>\n",
       "      <td>2</td>\n",
       "    </tr>\n",
       "    <tr>\n",
       "      <th>15</th>\n",
       "      <td>15</td>\n",
       "      <td>1</td>\n",
       "      <td>4</td>\n",
       "      <td>4</td>\n",
       "      <td>4</td>\n",
       "      <td>2</td>\n",
       "      <td>3</td>\n",
       "      <td>4</td>\n",
       "      <td>3</td>\n",
       "      <td>4</td>\n",
       "      <td>3</td>\n",
       "    </tr>\n",
       "    <tr>\n",
       "      <th>16</th>\n",
       "      <td>16</td>\n",
       "      <td>2</td>\n",
       "      <td>4</td>\n",
       "      <td>4</td>\n",
       "      <td>4</td>\n",
       "      <td>4</td>\n",
       "      <td>4</td>\n",
       "      <td>4</td>\n",
       "      <td>4</td>\n",
       "      <td>4</td>\n",
       "      <td>4</td>\n",
       "    </tr>\n",
       "  </tbody>\n",
       "</table>\n",
       "</div>"
      ]
     },
     "execution_count": 132,
     "metadata": {},
     "output_type": "execute_result"
    }
   ],
   "execution_count": 132
  },
  {
   "metadata": {
    "ExecuteTime": {
     "end_time": "2025-04-03T11:42:26.759303Z",
     "start_time": "2025-04-03T11:42:26.752356Z"
    }
   },
   "cell_type": "code",
   "source": [
    "df = pd.DataFrame(data)\n",
    "\n",
    "sus_columns = [\"Q1\", \"Q2\", \"Q3\", \"Q4\", \"Q5\", \"Q6\", \"Q7\", \"Q9\", \"Q9.1\", \"Q10\"]\n",
    "df[\"SUS_Score\"] = df[sus_columns].sum(axis=1) * 2.5\n",
    "\n",
    "df[\"SUS_Score\"].describe()"
   ],
   "id": "7f5c8ad82f35a5c5",
   "outputs": [
    {
     "data": {
      "text/plain": [
       "count    17.000000\n",
       "mean     77.058824\n",
       "std      11.931946\n",
       "min      52.500000\n",
       "25%      70.000000\n",
       "50%      80.000000\n",
       "75%      85.000000\n",
       "max      95.000000\n",
       "Name: SUS_Score, dtype: float64"
      ]
     },
     "execution_count": 133,
     "metadata": {},
     "output_type": "execute_result"
    }
   ],
   "execution_count": 133
  },
  {
   "metadata": {},
   "cell_type": "markdown",
   "source": [
    "## T-test\n",
    "Here we use a single sampled two sided t-test, because we only have one sample and we have a \"population mean\"."
   ],
   "id": "432a3c4feee52ad9"
  },
  {
   "metadata": {
    "ExecuteTime": {
     "end_time": "2025-04-03T11:42:26.831957Z",
     "start_time": "2025-04-03T11:42:26.829009Z"
    }
   },
   "cell_type": "code",
   "source": [
    "mu = 67.0\n",
    "\n",
    "# We proceed to test whether this is significantly different (with criteria 0.05)\n",
    "# scipy.stats has a function for one-sample t-test, note that this is *TWO TAILED*\n",
    "t,p = stats.ttest_1samp(df[\"SUS_Score\"], mu)\n",
    "\n",
    "# The t-statistic and probability for a *TWO TAILED TEST*\n",
    "print ('t_two_tailed:', t)\n",
    "print ('p_two_tailed:', p)"
   ],
   "id": "5d816c77a8cc89ee",
   "outputs": [
    {
     "name": "stdout",
     "output_type": "stream",
     "text": [
      "t_two_tailed: 3.475844895917788\n",
      "p_two_tailed: 0.003118651420425001\n"
     ]
    }
   ],
   "execution_count": 134
  },
  {
   "metadata": {},
   "cell_type": "markdown",
   "source": [
    "## Conclusion\n",
    "Our p-value is below 0,005 (it's 0,003) so we discard the null-hypothesis that there isn't a significant difference between the two scores."
   ],
   "id": "ff0981e9bae8ee07"
  },
  {
   "metadata": {
    "ExecuteTime": {
     "end_time": "2025-04-03T11:42:26.894117Z",
     "start_time": "2025-04-03T11:42:26.889633Z"
    }
   },
   "cell_type": "code",
   "source": [
    "confidence = 0.95\n",
    "mean = df[\"SUS_Score\"].mean()\n",
    "sem = stats.sem(df[\"SUS_Score\"])\n",
    "ci = stats.t.interval(confidence, len(df[\"SUS_Score\"])-1, loc=mean, scale=sem)\n",
    "print(f\"95% confidence interval for SUS: {ci}\")"
   ],
   "id": "3913b0cd509a81dd",
   "outputs": [
    {
     "name": "stdout",
     "output_type": "stream",
     "text": [
      "95% confidence interval for SUS: (70.92398324094759, 83.19366381787594)\n"
     ]
    }
   ],
   "execution_count": 135
  },
  {
   "metadata": {},
   "cell_type": "markdown",
   "source": [
    "## Using the CI\n",
    "If we substitute the SUS mean of 77.06 with the lower margin of the CI 70.92 we"
   ],
   "id": "ec89c722d6899df9"
  },
  {
   "metadata": {
    "ExecuteTime": {
     "end_time": "2025-04-03T11:42:27.121972Z",
     "start_time": "2025-04-03T11:42:27.054097Z"
    }
   },
   "cell_type": "code",
   "source": [
    "# Plotting\n",
    "stats.probplot(df[\"SUS_Score\"], plot=plt)\n",
    "\n"
   ],
   "id": "37e34b9c09efe264",
   "outputs": [
    {
     "data": {
      "text/plain": [
       "((array([-1.7512281 , -1.29947609, -1.01741764, -0.79927841, -0.61386703,\n",
       "         -0.44755083, -0.29283065, -0.14485444,  0.        ,  0.14485444,\n",
       "          0.29283065,  0.44755083,  0.61386703,  0.79927841,  1.01741764,\n",
       "          1.29947609,  1.7512281 ]),\n",
       "  array([52.5, 57.5, 65. , 70. , 70. , 72.5, 72.5, 75. , 80. , 80. , 82.5,\n",
       "         82.5, 85. , 85. , 92.5, 92.5, 95. ])),\n",
       " (12.456480686935986, 77.05882352941177, 0.9844062271694634))"
      ]
     },
     "execution_count": 136,
     "metadata": {},
     "output_type": "execute_result"
    },
    {
     "data": {
      "text/plain": [
       "<Figure size 432x288 with 1 Axes>"
      ],
      "image/png": "[encoded data removed]"
     },
     "metadata": {
      "needs_background": "light"
     },
     "output_type": "display_data"
    }
   ],
   "execution_count": 136
  },
  {
   "metadata": {
    "ExecuteTime": {
     "end_time": "2025-04-03T11:42:27.159309Z",
     "start_time": "2025-04-03T11:42:27.157939Z"
    }
   },
   "cell_type": "code",
   "source": "",
   "id": "14d8ea8de1b0dfdc",
   "outputs": [],
   "execution_count": null
  },
  {
   "metadata": {},
   "cell_type": "markdown",
   "source": "",
   "id": "373135905488de2c"
  }
 ],
 "metadata": {
  "kernelspec": {
   "display_name": "Python 3",
   "language": "python",
   "name": "python3"
  },
  "language_info": {
   "codemirror_mode": {
    "name": "ipython",
    "version": 2
   },
   "file_extension": ".py",
   "mimetype": "text/x-python",
   "name": "python",
   "nbconvert_exporter": "python",
   "pygments_lexer": "ipython2",
   "version": "2.7.6"
  }
 },
 "nbformat": 4,
 "nbformat_minor": 5
}
