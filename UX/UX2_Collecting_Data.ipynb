{
 "cells": [
  {
   "cell_type": "markdown",
   "metadata": {
    "id": "C-z71414BnfZ"
   },
   "source": [
    "# UX 2 Collecting Data\n",
    "\n",
    "Author:\n",
    "- |\n",
    "    Sofia Dahl, sof@create.aau.dk\\\n",
    "    Dept. Architecture, Design and Media Technology, Aalborg University Copenhagen\n",
    "---\n",
    "\n",
    "## Learning Goals\n",
    "After working your way through this notebook you should be able to:\n",
    "\n",
    "- Explain what a variable is\n",
    "- Give examples of different kinds of data \n",
    "- Set up a contingency table \n",
    "  \n",
    "\n",
    "## Table of Contents\n",
    "\n",
    "- [1. Variables](#Variables)\n",
    "    - [1.1 Manipulating Variables](#Manipulating)\n",
    "- [2. Kinds of Data](#Datatypes)\n",
    "    - [2.1 Categorical Data](#Categorical)\n",
    "    - [2.2 Quantitative Data](#Quantitative)\n",
    "    - [2.3 Completion rate](#CompletionRate)\n",
    "    - [2.4 Continuous Data](#Continous)\n",
    "- [3. Contingency Tables](#Contingency)    \n",
    "- [4. Sensitivity of Quantitative Data](#Sensitivity)\n"
   ]
  },
  {
   "cell_type": "code",
   "metadata": {
    "ExecuteTime": {
     "end_time": "2025-02-20T10:07:32.916576Z",
     "start_time": "2025-02-20T10:07:32.915133Z"
    }
   },
   "source": [],
   "outputs": [],
   "execution_count": null
  },
  {
   "cell_type": "markdown",
   "metadata": {
    "id": "Itlq_U7VBnfi"
   },
   "source": [
    "<a id= 'Variables'> </a>"
   ]
  },
  {
   "cell_type": "markdown",
   "metadata": {
    "id": "7BD6GoVGBnfi"
   },
   "source": [
    "\n",
    "## 1 Variables \n",
    "\n",
    "A variable is something that can take at least two values. It can be pretty much anything: the number of users clicking the 'help' button during a day; how fast a player can get through a puzzle game; or how users rate a product that is being tested. \n",
    "\n",
    "We tend to be interested in how variables vary because this can help us answer our research questions. Which, in turn, could be: \"Does it have an effect where we place the help button?\"; \" Can sound effects help players solve a puzzle game more efficiently?\"; \" Do users prefer our product to another?\"\n",
    "\n"
   ]
  },
  {
   "cell_type": "code",
   "metadata": {
    "executionInfo": {
     "elapsed": 889,
     "status": "ok",
     "timestamp": 1620109279291,
     "user": {
      "displayName": "",
      "photoUrl": "",
      "userId": ""
     },
     "user_tz": -120
    },
    "id": "CixUwUz0Bnfg",
    "ExecuteTime": {
     "end_time": "2025-02-20T10:07:33.586251Z",
     "start_time": "2025-02-20T10:07:32.926676Z"
    }
   },
   "source": [
    "#Loading libraries we will use in this notebook\n",
    "%matplotlib inline\n",
    "import numpy as np\n",
    "import pandas as pd\n",
    "import matplotlib.pyplot as plt"
   ],
   "outputs": [],
   "execution_count": 1
  },
  {
   "cell_type": "markdown",
   "metadata": {
    "id": "BMy5XJXtBnfi"
   },
   "source": [
    "<a id= 'Manipulating'> </a>"
   ]
  },
  {
   "cell_type": "markdown",
   "metadata": {
    "id": "BjA_6dzjBnfj"
   },
   "source": [
    "\n",
    "### 1.1 Manipulating Variables\n",
    "\n",
    "The previous examples of research questions all concern whether two variables are *related* in some way. That is, does A have an effect on B? \n",
    "To answer our question, we collect data on variables A and B and see if there is a relationship between them. For example, we can do this by observations, or by checking the correlation between variables. But to be completely sure that A indeed has an effect on B, we need to set up experiments where we *manipulate* A and measure B. If B changes when nothing but A is altered, we can (with some confidence) say that A has an effect on B. This is the essence of an experiment: manipulating only one variable, keeping everything else constant, and then measuring the effect. \n",
    "\n",
    "The *INDEPENDENT* variable (A) is the one that is controlled and manipulated\n",
    "by the experimenter in order to create different conditions for the\n",
    "experiment. The aim is to see if these manipulations have an\n",
    "effect on the *DEPENDENT* variable (B), which is the one being measured.\n"
   ]
  },
  {
   "cell_type": "code",
   "metadata": {
    "colab": {
     "base_uri": "https://localhost:8080/",
     "height": 297
    },
    "executionInfo": {
     "elapsed": 1095,
     "status": "ok",
     "timestamp": 1620109818350,
     "user": {
      "displayName": "",
      "photoUrl": "",
      "userId": ""
     },
     "user_tz": -120
    },
    "id": "p6z_hEa8Bnfj",
    "outputId": "bdf123e9-b7c4-4d93-8a1c-4ff9307c62a9",
    "ExecuteTime": {
     "end_time": "2025-02-20T10:07:33.685913Z",
     "start_time": "2025-02-20T10:07:33.622356Z"
    }
   },
   "source": [
    "#Let's assume we have a variable A\n",
    "# we can generate an array (using numpy library)\n",
    "A=np.array([3,5,11,17,25,27])\n",
    "\n",
    "#And if B is a dependent variable there may be a relationship between the two\n",
    "B=2.5*A\n",
    "\n",
    "#We plot using matplotlib\n",
    "plt.plot(A,B, 'r*') #the 'r*' specify color and shape of the markers\n",
    "#in this scatter plot we will use red stars\n",
    "\n",
    "plt.xlabel('A (Independent Variable)')\n",
    "plt.ylabel('B (Dependent Variable)')"
   ],
   "outputs": [
    {
     "data": {
      "text/plain": [
       "Text(0, 0.5, 'B (Dependent Variable)')"
      ]
     },
     "execution_count": 2,
     "metadata": {},
     "output_type": "execute_result"
    },
    {
     "data": {
      "text/plain": [
       "<Figure size 432x288 with 1 Axes>"
      ],
      "image/png": "[encoded data removed]"
     },
     "metadata": {
      "needs_background": "light"
     },
     "output_type": "display_data"
    }
   ],
   "execution_count": 2
  },
  {
   "cell_type": "markdown",
   "metadata": {
    "id": "FGHgb1LnBnfk"
   },
   "source": [
    "### Try out 1: \n",
    "Now specify another variable"
   ]
  },
  {
   "cell_type": "code",
   "metadata": {
    "colab": {
     "base_uri": "https://localhost:8080/",
     "height": 282
    },
    "executionInfo": {
     "elapsed": 859,
     "status": "ok",
     "timestamp": 1620109826864,
     "user": {
      "displayName": "",
      "photoUrl": "",
      "userId": ""
     },
     "user_tz": -120
    },
    "id": "vkOLZSWvBnfk",
    "outputId": "49a748db-33ab-4bd7-b4ba-f01637897a17",
    "ExecuteTime": {
     "end_time": "2025-02-20T10:07:33.735571Z",
     "start_time": "2025-02-20T10:07:33.693551Z"
    }
   },
   "source": [
    "#TRY OUT: \n",
    "#specify a variable C= A+ 20 and plot this vs. A\n",
    "\n",
    "C= A + 20\n",
    "plt.plot(A,C, 'b+') #the 'b+' means blue plusses "
   ],
   "outputs": [
    {
     "data": {
      "text/plain": [
       "[<matplotlib.lines.Line2D at 0x15f818670>]"
      ]
     },
     "execution_count": 3,
     "metadata": {},
     "output_type": "execute_result"
    },
    {
     "data": {
      "text/plain": [
       "<Figure size 432x288 with 1 Axes>"
      ],
      "image/png": "[encoded data removed]"
     },
     "metadata": {
      "needs_background": "light"
     },
     "output_type": "display_data"
    }
   ],
   "execution_count": 3
  },
  {
   "cell_type": "markdown",
   "metadata": {},
   "source": [
    "ANSWER: What kind of relationship is there betwewn variable A and C?"
   ]
  },
  {
   "cell_type": "code",
   "metadata": {
    "colab": {
     "base_uri": "https://localhost:8080/"
    },
    "executionInfo": {
     "elapsed": 772,
     "status": "ok",
     "timestamp": 1620109851580,
     "user": {
      "displayName": "",
      "photoUrl": "",
      "userId": ""
     },
     "user_tz": -120
    },
    "id": "RmjW4ARYBnfl",
    "outputId": "da0b0f25-cd63-4c03-97bb-34d5aa973a99",
    "ExecuteTime": {
     "end_time": "2025-02-20T10:07:33.748488Z",
     "start_time": "2025-02-20T10:07:33.745602Z"
    }
   },
   "source": [
    "# We can combine our variables into a 2D array\n",
    "array=np.array([A,B,C])\n",
    "array"
   ],
   "outputs": [
    {
     "data": {
      "text/plain": [
       "array([[ 3. ,  5. , 11. , 17. , 25. , 27. ],\n",
       "       [ 7.5, 12.5, 27.5, 42.5, 62.5, 67.5],\n",
       "       [23. , 25. , 31. , 37. , 45. , 47. ]])"
      ]
     },
     "execution_count": 4,
     "metadata": {},
     "output_type": "execute_result"
    }
   ],
   "execution_count": 4
  },
  {
   "cell_type": "markdown",
   "metadata": {},
   "source": [
    "Note that because B was defined as 2.5 times A (resulting in non integer numbers) the whole 2D array is floats as a result. \n",
    "\n",
    "But, just like previous notebook, we would like to have the variables in a DATA FRAME where we define the three variables A, B, C."
   ]
  },
  {
   "cell_type": "code",
   "metadata": {
    "colab": {
     "base_uri": "https://localhost:8080/",
     "height": 225
    },
    "executionInfo": {
     "elapsed": 938,
     "status": "ok",
     "timestamp": 1620109857344,
     "user": {
      "displayName": "",
      "photoUrl": "",
      "userId": ""
     },
     "user_tz": -120
    },
    "id": "azrKxvqDBnfl",
    "outputId": "77f7107b-5cd6-4ee0-9f9a-651b2e5631f2",
    "ExecuteTime": {
     "end_time": "2025-02-20T10:07:33.832842Z",
     "start_time": "2025-02-20T10:07:33.823704Z"
    }
   },
   "source": [
    "#convert array into DATA FRAME\n",
    "df = pd.DataFrame(array.T, columns=([\"A\",\"B\",\"C\"]), index=[1,2,3,4,5,6])\n",
    "df"
   ],
   "outputs": [
    {
     "data": {
      "text/plain": [
       "      A     B     C\n",
       "1   3.0   7.5  23.0\n",
       "2   5.0  12.5  25.0\n",
       "3  11.0  27.5  31.0\n",
       "4  17.0  42.5  37.0\n",
       "5  25.0  62.5  45.0\n",
       "6  27.0  67.5  47.0"
      ],
      "text/html": [
       "<div>\n",
       "<style scoped>\n",
       "    .dataframe tbody tr th:only-of-type {\n",
       "        vertical-align: middle;\n",
       "    }\n",
       "\n",
       "    .dataframe tbody tr th {\n",
       "        vertical-align: top;\n",
       "    }\n",
       "\n",
       "    .dataframe thead th {\n",
       "        text-align: right;\n",
       "    }\n",
       "</style>\n",
       "<table border=\"1\" class=\"dataframe\">\n",
       "  <thead>\n",
       "    <tr style=\"text-align: right;\">\n",
       "      <th></th>\n",
       "      <th>A</th>\n",
       "      <th>B</th>\n",
       "      <th>C</th>\n",
       "    </tr>\n",
       "  </thead>\n",
       "  <tbody>\n",
       "    <tr>\n",
       "      <th>1</th>\n",
       "      <td>3.0</td>\n",
       "      <td>7.5</td>\n",
       "      <td>23.0</td>\n",
       "    </tr>\n",
       "    <tr>\n",
       "      <th>2</th>\n",
       "      <td>5.0</td>\n",
       "      <td>12.5</td>\n",
       "      <td>25.0</td>\n",
       "    </tr>\n",
       "    <tr>\n",
       "      <th>3</th>\n",
       "      <td>11.0</td>\n",
       "      <td>27.5</td>\n",
       "      <td>31.0</td>\n",
       "    </tr>\n",
       "    <tr>\n",
       "      <th>4</th>\n",
       "      <td>17.0</td>\n",
       "      <td>42.5</td>\n",
       "      <td>37.0</td>\n",
       "    </tr>\n",
       "    <tr>\n",
       "      <th>5</th>\n",
       "      <td>25.0</td>\n",
       "      <td>62.5</td>\n",
       "      <td>45.0</td>\n",
       "    </tr>\n",
       "    <tr>\n",
       "      <th>6</th>\n",
       "      <td>27.0</td>\n",
       "      <td>67.5</td>\n",
       "      <td>47.0</td>\n",
       "    </tr>\n",
       "  </tbody>\n",
       "</table>\n",
       "</div>"
      ]
     },
     "execution_count": 5,
     "metadata": {},
     "output_type": "execute_result"
    }
   ],
   "execution_count": 5
  },
  {
   "cell_type": "code",
   "metadata": {
    "colab": {
     "base_uri": "https://localhost:8080/",
     "height": 284
    },
    "executionInfo": {
     "elapsed": 754,
     "status": "ok",
     "timestamp": 1620109862538,
     "user": {
      "displayName": "",
      "photoUrl": "",
      "userId": ""
     },
     "user_tz": -120
    },
    "id": "bganbHwjBnfl",
    "outputId": "56e494ae-0148-44e6-fb70-1cbfaad9d198",
    "ExecuteTime": {
     "end_time": "2025-02-20T10:07:33.881238Z",
     "start_time": "2025-02-20T10:07:33.873741Z"
    }
   },
   "source": [
    "#Data frame allows some quick diagnostics\n",
    "df.describe()"
   ],
   "outputs": [
    {
     "data": {
      "text/plain": [
       "               A          B          C\n",
       "count   6.000000   6.000000   6.000000\n",
       "mean   14.666667  36.666667  34.666667\n",
       "std    10.073066  25.182666  10.073066\n",
       "min     3.000000   7.500000  23.000000\n",
       "25%     6.500000  16.250000  26.500000\n",
       "50%    14.000000  35.000000  34.000000\n",
       "75%    23.000000  57.500000  43.000000\n",
       "max    27.000000  67.500000  47.000000"
      ],
      "text/html": [
       "<div>\n",
       "<style scoped>\n",
       "    .dataframe tbody tr th:only-of-type {\n",
       "        vertical-align: middle;\n",
       "    }\n",
       "\n",
       "    .dataframe tbody tr th {\n",
       "        vertical-align: top;\n",
       "    }\n",
       "\n",
       "    .dataframe thead th {\n",
       "        text-align: right;\n",
       "    }\n",
       "</style>\n",
       "<table border=\"1\" class=\"dataframe\">\n",
       "  <thead>\n",
       "    <tr style=\"text-align: right;\">\n",
       "      <th></th>\n",
       "      <th>A</th>\n",
       "      <th>B</th>\n",
       "      <th>C</th>\n",
       "    </tr>\n",
       "  </thead>\n",
       "  <tbody>\n",
       "    <tr>\n",
       "      <th>count</th>\n",
       "      <td>6.000000</td>\n",
       "      <td>6.000000</td>\n",
       "      <td>6.000000</td>\n",
       "    </tr>\n",
       "    <tr>\n",
       "      <th>mean</th>\n",
       "      <td>14.666667</td>\n",
       "      <td>36.666667</td>\n",
       "      <td>34.666667</td>\n",
       "    </tr>\n",
       "    <tr>\n",
       "      <th>std</th>\n",
       "      <td>10.073066</td>\n",
       "      <td>25.182666</td>\n",
       "      <td>10.073066</td>\n",
       "    </tr>\n",
       "    <tr>\n",
       "      <th>min</th>\n",
       "      <td>3.000000</td>\n",
       "      <td>7.500000</td>\n",
       "      <td>23.000000</td>\n",
       "    </tr>\n",
       "    <tr>\n",
       "      <th>25%</th>\n",
       "      <td>6.500000</td>\n",
       "      <td>16.250000</td>\n",
       "      <td>26.500000</td>\n",
       "    </tr>\n",
       "    <tr>\n",
       "      <th>50%</th>\n",
       "      <td>14.000000</td>\n",
       "      <td>35.000000</td>\n",
       "      <td>34.000000</td>\n",
       "    </tr>\n",
       "    <tr>\n",
       "      <th>75%</th>\n",
       "      <td>23.000000</td>\n",
       "      <td>57.500000</td>\n",
       "      <td>43.000000</td>\n",
       "    </tr>\n",
       "    <tr>\n",
       "      <th>max</th>\n",
       "      <td>27.000000</td>\n",
       "      <td>67.500000</td>\n",
       "      <td>47.000000</td>\n",
       "    </tr>\n",
       "  </tbody>\n",
       "</table>\n",
       "</div>"
      ]
     },
     "execution_count": 6,
     "metadata": {},
     "output_type": "execute_result"
    }
   ],
   "execution_count": 6
  },
  {
   "cell_type": "markdown",
   "metadata": {
    "id": "4x9m2i4uBnfm"
   },
   "source": [
    "<a id= 'Scales'> </a>"
   ]
  },
  {
   "cell_type": "markdown",
   "metadata": {
    "id": "eZvGgu_9Bnfm"
   },
   "source": [
    "## 2. Kinds of Data\n",
    "\n",
    "We can measure different kinds of data: *quantitative* or *categorical*. Different kinds of\n",
    "measurement types call for different analysis methods. That\n",
    "is, depending on the question, one might be more suitable to use than the\n",
    "other.\n",
    "\n",
    "*Categorical:*   Examples might be categorization of gender, race, religion, or type of sport of choice. In terms of UX testing it could be type of usability problem, or a participant choosing the preferred version among two or more implementations. When the categories can be ordered the data is referred to as *ordinal* (as in sizes small, medium, large, etc.). However, the difference between 'small' and 'medium' is not necessarily the same as the difference between 'medium' and 'large'.\n",
    "\n",
    "*Quantitative:*  Quantitative can be discrete (pass/fail) or continuous (completion time, cm). The continous data can take any value and infinite number of steps (time can be measured in fractions of seconds for instance)."
   ]
  },
  {
   "cell_type": "markdown",
   "metadata": {
    "id": "4x9m2i4uBnfm"
   },
   "source": [
    "<a id= 'Categorical'> </a>"
   ]
  },
  {
   "cell_type": "markdown",
   "metadata": {},
   "source": [
    "### 2.1 Categorical Data\n",
    "\n",
    "One example of categorical data is whether a user successfully can complete a task using the system, or not. \n",
    "Another that we will use for our purposes now is the random act of flipping a coin: The outcome is either head or tail. We can simulate flipping a coin using a numpy function."
   ]
  },
  {
   "cell_type": "code",
   "metadata": {
    "colab": {
     "base_uri": "https://localhost:8080/",
     "height": 319
    },
    "executionInfo": {
     "elapsed": 938,
     "status": "ok",
     "timestamp": 1620110291116,
     "user": {
      "displayName": "",
      "photoUrl": "",
      "userId": ""
     },
     "user_tz": -120
    },
    "id": "UH9F0F6_Bnfm",
    "outputId": "3167ca10-e187-437c-dda6-8672fbdcb13e",
    "ExecuteTime": {
     "end_time": "2025-02-20T10:07:34.068604Z",
     "start_time": "2025-02-20T10:07:34.018259Z"
    }
   },
   "source": [
    "\n",
    "# We can see the two outcomes by simulating N=100 coin flips \n",
    "score=np.random.randint(2, size=100) #generate randomo vector with 100 scores\n",
    "\n",
    "#and plot the distribution of this in a histogram\n",
    "plt.hist(score)\n"
   ],
   "outputs": [
    {
     "data": {
      "text/plain": [
       "(array([56.,  0.,  0.,  0.,  0.,  0.,  0.,  0.,  0., 44.]),\n",
       " array([0. , 0.1, 0.2, 0.3, 0.4, 0.5, 0.6, 0.7, 0.8, 0.9, 1. ]),\n",
       " <BarContainer object of 10 artists>)"
      ]
     },
     "execution_count": 7,
     "metadata": {},
     "output_type": "execute_result"
    },
    {
     "data": {
      "text/plain": [
       "<Figure size 432x288 with 1 Axes>"
      ],
      "image/png": "[encoded data removed]"
     },
     "metadata": {
      "needs_background": "light"
     },
     "output_type": "display_data"
    }
   ],
   "execution_count": 7
  },
  {
   "cell_type": "markdown",
   "metadata": {},
   "source": [
    "Here 0 stands for one category and 1 for the other. In the plot we can see how many of the tossess that result in  0 and 1. Note that these are categories, there is no point in trying to calculate an average of the two outcomes. Just as we would not calculate means of how many that chose product A or product B.\n"
   ]
  },
  {
   "cell_type": "markdown",
   "metadata": {
    "id": "4x9m2i4uBnfm"
   },
   "source": [
    "<a id= 'Quantitative'> </a>"
   ]
  },
  {
   "cell_type": "markdown",
   "metadata": {},
   "source": [
    "### 2.2 Quantitative Data\n",
    "\n",
    "If we instead count the number of heads in each 100 tosses and obtain the total number of heads we have quantitative data.\n",
    " \n",
    "Similarly we can study the number of  \"successful\"  task completions, counting how many users that completed, and obtain the completion rate."
   ]
  },
  {
   "cell_type": "code",
   "metadata": {
    "ExecuteTime": {
     "end_time": "2025-02-20T10:07:34.149018Z",
     "start_time": "2025-02-20T10:07:34.147550Z"
    }
   },
   "source": [],
   "outputs": [],
   "execution_count": null
  },
  {
   "cell_type": "code",
   "metadata": {
    "colab": {
     "base_uri": "https://localhost:8080/"
    },
    "executionInfo": {
     "elapsed": 1491,
     "status": "ok",
     "timestamp": 1620110309658,
     "user": {
      "displayName": "",
      "photoUrl": "",
      "userId": ""
     },
     "user_tz": -120
    },
    "id": "TAPm0mu4Bnfn",
    "outputId": "c32fed4f-8a1c-472b-ec50-7fa3b53ea7a8",
    "ExecuteTime": {
     "end_time": "2025-02-20T10:07:34.249810Z",
     "start_time": "2025-02-20T10:07:34.246111Z"
    }
   },
   "source": [
    "# If we count the number of heads in each 100 tosses and obtain the total number of heads\n",
    "# we use another type of measurement. \n",
    "\n",
    "sum(score) #this is still discrete\n"
   ],
   "outputs": [
    {
     "data": {
      "text/plain": [
       "44"
      ]
     },
     "execution_count": 8,
     "metadata": {},
     "output_type": "execute_result"
    }
   ],
   "execution_count": 8
  },
  {
   "cell_type": "markdown",
   "metadata": {},
   "source": [
    "This number is quantitative with a meaningful zero (0 heads in 100 tosses). It can only take discrete values but if we re-do the 100 tosses we can record the measure to compare the outcome and calculate measures in a meaningful way. \n",
    "\n",
    "Note that the sum of heads will vary slightly, even if we expect that both categories occur approximately equal amount of times. It is a random outcome after all. But if we draw a lot of samples, each time making 100 tosses, we should see the number of heads centered around the expected 50-50"
   ]
  },
  {
   "cell_type": "code",
   "metadata": {
    "colab": {
     "base_uri": "https://localhost:8080/",
     "height": 297
    },
    "executionInfo": {
     "elapsed": 777,
     "status": "ok",
     "timestamp": 1620110602864,
     "user": {
      "displayName": "",
      "photoUrl": "",
      "userId": ""
     },
     "user_tz": -120
    },
    "id": "8S-BR4OhBnfn",
    "outputId": "bb06bb2f-17fc-41ca-de6f-03b1b4b49d8f",
    "ExecuteTime": {
     "end_time": "2025-02-20T10:07:34.386112Z",
     "start_time": "2025-02-20T10:07:34.316120Z"
    }
   },
   "source": [
    "# If we draw a lot of samples, we should see the proportion of heads centered around the expected 50-50\n",
    "\n",
    "# We can repeat this a number of times with a different number of tosses (N)\n",
    "K=1000  # how many times we run the N-toss simulation\n",
    "N=[100] # number of tosses (N) = sample size\n",
    "\n",
    "meanarr=np.zeros(K, float) #allocate an array of size K\n",
    "\n",
    "for j in range(0,K): #repeat for length of K\n",
    "       score=np.random.randint(2, size=N)   #generate vector of size N with random scores\n",
    "       meanarr[j]=sum(score)                # calculate the frequency of heads for K=j   \n",
    "\n",
    "count, bins, ignored =plt.hist(meanarr) #plot histogram with K frequencies \n",
    "\n",
    "plt.ylabel('Occurrences')\n",
    "plt.xlabel('#Heads Obtained')\n",
    "\n",
    "#Try to re-run this code several times, and see the histogram change"
   ],
   "outputs": [
    {
     "data": {
      "text/plain": [
       "Text(0.5, 0, '#Heads Obtained')"
      ]
     },
     "execution_count": 9,
     "metadata": {},
     "output_type": "execute_result"
    },
    {
     "data": {
      "text/plain": [
       "<Figure size 432x288 with 1 Axes>"
      ],
      "image/png": "[encoded data removed]"
     },
     "metadata": {
      "needs_background": "light"
     },
     "output_type": "display_data"
    }
   ],
   "execution_count": 9
  },
  {
   "cell_type": "markdown",
   "metadata": {
    "id": "4x9m2i4uBnfm"
   },
   "source": [
    "<a id= 'CompletionRate'> </a>"
   ]
  },
  {
   "cell_type": "markdown",
   "metadata": {},
   "source": [
    "### 2.3 Completion rate\n",
    "\n",
    "It is difficult to compare our values of successful task completion if we have different number of users trying it out. It therefore makes sense to record values in proportion to the number of attempts (or participants). \n",
    "\n",
    "*Completion rate* is the number of successfully completing users divided by the total number of users, moving from discrete values to proportion or percentages. We can do the same with our head tosses and look at proportions instead.\n"
   ]
  },
  {
   "cell_type": "code",
   "metadata": {
    "ExecuteTime": {
     "end_time": "2025-02-20T10:07:34.457490Z",
     "start_time": "2025-02-20T10:07:34.394930Z"
    }
   },
   "source": [
    "#Rather than plotting total frequency we use the histogram option density=True \n",
    "# This means that it will normalize all values so the total area under the curve is equal to 1. \n",
    "count, bins, ignored =plt.hist(meanarr,density= True) #plot histogram with K means but with area=1\n",
    "\n",
    "plt.ylabel('Fraction of Occurrences')\n",
    "plt.xlabel('#Heads Obtained')"
   ],
   "outputs": [
    {
     "data": {
      "text/plain": [
       "Text(0.5, 0, '#Heads Obtained')"
      ]
     },
     "execution_count": 10,
     "metadata": {},
     "output_type": "execute_result"
    },
    {
     "data": {
      "text/plain": [
       "<Figure size 432x288 with 1 Axes>"
      ],
      "image/png": "[encoded data removed]"
     },
     "metadata": {
      "needs_background": "light"
     },
     "output_type": "display_data"
    }
   ],
   "execution_count": 10
  },
  {
   "cell_type": "markdown",
   "metadata": {
    "id": "4x9m2i4uBnfm"
   },
   "source": [
    "<a id= 'Continous'> </a>"
   ]
  },
  {
   "cell_type": "markdown",
   "metadata": {},
   "source": [
    "### 2.4 Continuous Data\n",
    "Rather than recording completion scores (0 or 1) and rates, we can measure the task time. That is how *long* does it take for users to complete the task. \n",
    "\n",
    "When we measure things like time, the data can take any value. Examples are time measured, height, weight...\n",
    "Depending on the precision of measurement we can record, two measurements will vary.\n"
   ]
  },
  {
   "cell_type": "markdown",
   "metadata": {},
   "source": [
    "### Try out 2\n",
    "\n",
    "Record your reaction time using this page https://humanbenchmark.com/tests/reactiontime.\n",
    "Redo the test 7 times and record your reaction times (in ms) in a variable. Plot the values."
   ]
  },
  {
   "cell_type": "code",
   "metadata": {
    "ExecuteTime": {
     "end_time": "2025-02-20T10:07:34.467994Z",
     "start_time": "2025-02-20T10:07:34.466001Z"
    }
   },
   "source": [
    "# Record the reaction times in a variable and plot the histogram\n",
    "# reactime=np.array([])\n"
   ],
   "outputs": [],
   "execution_count": 11
  },
  {
   "cell_type": "markdown",
   "metadata": {},
   "source": [
    "ANSWER: If you would continue to collect a larger sample of reaction time data, would you expect the histogram to have similar shapes as the occurrences of heads in the flipping coin examples? If not, why not?"
   ]
  },
  {
   "cell_type": "markdown",
   "metadata": {},
   "source": [
    "<a id= 'Contingency'> </a>"
   ]
  },
  {
   "cell_type": "markdown",
   "metadata": {},
   "source": [
    "### 3 Contingency Table\n",
    "Returning once more to categorical data, you might have a selection task where people are asked to make a choice between two or more alternatives. For instance, you may be interested in testing which of two designs the participants prefer. In psychology, the \"N-alternative-forced-choice\" paradigm is often used, where \"N\" is typically 2, 3, or some other number of choices that the participants have to select from. \n",
    "\n",
    "For instance, we could have users select between two images, and we record whether they chose the original file or a manipulated one.\n",
    "\n",
    "Thus the categorical data, we typically get it in a form similar to:\n",
    "\n",
    "| Image pair |Original|\n",
    "|-----|--------|\n",
    "|1  |Yes       |\n",
    "|2  |No     |\n",
    "|3  |No     |\n",
    "|4  |No     |\n",
    "|5  |No     |\n",
    "|6  |Yes    |\n",
    "|7  |Yes   |\n",
    "|8  |No     |\n",
    "|:  |:     |\n",
    "\n",
    "\n",
    "and so on. \n",
    "\n",
    "For analysis, we instead want a *contingency table* where we summarize the observed frequencies. In the above example, we can imagine that for a total of 144 image pairs, in 80 cases our participant chose the original image. \n",
    "\n",
    "|Original |Manipulated|Total|\n",
    "|-----|--------|-----|\n",
    "|80   |64      |144  |\n",
    "\n",
    "\n",
    "In other cases, we have more variables resulting in several rows, giving us a R x C table. For instance, we might have two different groups of users (novices and experts) that evaluate and select their preferences from among three different physical interfaces for a digital application. "
   ]
  },
  {
   "cell_type": "code",
   "metadata": {
    "ExecuteTime": {
     "end_time": "2025-02-20T10:07:34.500842Z",
     "start_time": "2025-02-20T10:07:34.494497Z"
    }
   },
   "source": [
    "# The data for the different participants and their preferences could look something like this: \n",
    "df = pd.DataFrame({'Participant': [1, 2, 3, 4, 5, 6, 7, 8, 9, 10,\n",
    "                            11, 12, 13, 14, 15, 16, 17, 18, 19, 20],\n",
    "                   'Experience': ['novice', 'expert', 'expert', 'novice', 'novice', 'expert',\n",
    "                               'expert', 'expert', 'expert', 'expert', 'novice', 'novice', 'novice',\n",
    "                               'novice', 'novice', 'novice', 'novice', 'novice', 'expert', 'novice'],\n",
    "                   'Interface': ['A', 'A', 'A', 'A', 'B', 'B', 'B', 'B', 'B', 'B', 'B',\n",
    "                               'B', 'C', 'C', 'C', 'C', 'C', 'C', 'C', 'C']})\n",
    "# Print out the first four participants\n",
    "df.head(4)"
   ],
   "outputs": [
    {
     "data": {
      "text/plain": [
       "   Participant Experience Interface\n",
       "0            1     novice         A\n",
       "1            2     expert         A\n",
       "2            3     expert         A\n",
       "3            4     novice         A"
      ],
      "text/html": [
       "<div>\n",
       "<style scoped>\n",
       "    .dataframe tbody tr th:only-of-type {\n",
       "        vertical-align: middle;\n",
       "    }\n",
       "\n",
       "    .dataframe tbody tr th {\n",
       "        vertical-align: top;\n",
       "    }\n",
       "\n",
       "    .dataframe thead th {\n",
       "        text-align: right;\n",
       "    }\n",
       "</style>\n",
       "<table border=\"1\" class=\"dataframe\">\n",
       "  <thead>\n",
       "    <tr style=\"text-align: right;\">\n",
       "      <th></th>\n",
       "      <th>Participant</th>\n",
       "      <th>Experience</th>\n",
       "      <th>Interface</th>\n",
       "    </tr>\n",
       "  </thead>\n",
       "  <tbody>\n",
       "    <tr>\n",
       "      <th>0</th>\n",
       "      <td>1</td>\n",
       "      <td>novice</td>\n",
       "      <td>A</td>\n",
       "    </tr>\n",
       "    <tr>\n",
       "      <th>1</th>\n",
       "      <td>2</td>\n",
       "      <td>expert</td>\n",
       "      <td>A</td>\n",
       "    </tr>\n",
       "    <tr>\n",
       "      <th>2</th>\n",
       "      <td>3</td>\n",
       "      <td>expert</td>\n",
       "      <td>A</td>\n",
       "    </tr>\n",
       "    <tr>\n",
       "      <th>3</th>\n",
       "      <td>4</td>\n",
       "      <td>novice</td>\n",
       "      <td>A</td>\n",
       "    </tr>\n",
       "  </tbody>\n",
       "</table>\n",
       "</div>"
      ]
     },
     "execution_count": 12,
     "metadata": {},
     "output_type": "execute_result"
    }
   ],
   "execution_count": 12
  },
  {
   "cell_type": "markdown",
   "metadata": {},
   "source": [
    "This can now be summarized in a contingency table with Instrument in the rows, and choice of Interface in columns."
   ]
  },
  {
   "cell_type": "code",
   "metadata": {
    "ExecuteTime": {
     "end_time": "2025-02-20T10:07:34.551735Z",
     "start_time": "2025-02-20T10:07:34.541417Z"
    }
   },
   "source": [
    "# Create contingency table with Instrument as rows, and choice of Interface in columns\n",
    "\n",
    "Interfacetable = pd.crosstab(df.Experience, [df.Interface], margins = False)\n",
    "# Margins = True adds the row and column sums\n",
    "\n",
    "Interfacetable"
   ],
   "outputs": [
    {
     "data": {
      "text/plain": [
       "Interface   A  B  C\n",
       "Experience         \n",
       "expert      2  5  1\n",
       "novice      2  3  7"
      ],
      "text/html": [
       "<div>\n",
       "<style scoped>\n",
       "    .dataframe tbody tr th:only-of-type {\n",
       "        vertical-align: middle;\n",
       "    }\n",
       "\n",
       "    .dataframe tbody tr th {\n",
       "        vertical-align: top;\n",
       "    }\n",
       "\n",
       "    .dataframe thead th {\n",
       "        text-align: right;\n",
       "    }\n",
       "</style>\n",
       "<table border=\"1\" class=\"dataframe\">\n",
       "  <thead>\n",
       "    <tr style=\"text-align: right;\">\n",
       "      <th>Interface</th>\n",
       "      <th>A</th>\n",
       "      <th>B</th>\n",
       "      <th>C</th>\n",
       "    </tr>\n",
       "    <tr>\n",
       "      <th>Experience</th>\n",
       "      <th></th>\n",
       "      <th></th>\n",
       "      <th></th>\n",
       "    </tr>\n",
       "  </thead>\n",
       "  <tbody>\n",
       "    <tr>\n",
       "      <th>expert</th>\n",
       "      <td>2</td>\n",
       "      <td>5</td>\n",
       "      <td>1</td>\n",
       "    </tr>\n",
       "    <tr>\n",
       "      <th>novice</th>\n",
       "      <td>2</td>\n",
       "      <td>3</td>\n",
       "      <td>7</td>\n",
       "    </tr>\n",
       "  </tbody>\n",
       "</table>\n",
       "</div>"
      ]
     },
     "execution_count": 13,
     "metadata": {},
     "output_type": "execute_result"
    }
   ],
   "execution_count": 13
  },
  {
   "cell_type": "markdown",
   "metadata": {},
   "source": [
    "The table should be interpreted as\n",
    "- Among the eight experts (first row): 2 chose interface A, 5 interface B, and 1 chose interface C \n",
    "- Among the 12 novices (second row): 2 chose interface A, 3 interface B, and 7 chose interface C\n",
    "\n",
    "Alternatively, if we choose to focus on the columns:\n",
    "- Interface A was selected by a total of 4 participants, while interface B and C were both preferred by 8. \n",
    "\n",
    "From the table, it seems like experts and novices had different preferences in their choice of control interface. "
   ]
  },
  {
   "cell_type": "markdown",
   "metadata": {
    "id": "BMy5XJXtBnfi"
   },
   "source": [
    "<a id= 'Sensitivity'> </a>"
   ]
  },
  {
   "cell_type": "markdown",
   "metadata": {},
   "source": [
    "\n",
    "### 4 Sensitivity of quantitative data\n",
    "There a difference between asking:\n",
    "\n",
    "*Q. Did you like this product? (Select one)*\n",
    "\n",
    "YES / NO \n",
    "\n",
    "**and**\n",
    "\n",
    "*Q. To what degree did you like this product? (put a cross on the scale)*\n",
    "\n",
    "Not at all<------------------------------> Very much\n",
    "\n",
    "\n",
    "The first response example generates data that can take one of two values. The other example can take many different values. You have probably encountered the latter as a type of rating scale in surveys, where there might be 3, 5 or more steps between \"Not at all\" and \"Very much\". But if done on paper or with an online slider, the number values the data can take between the two extremes can be many more. Even continuous. \n",
    "\n",
    "Depending on how we ask and collect quantitative data, it will end up in different places on the spectrum from binary (can take one of two values) to continous. This also means the measures have different *sensitivities*. The second way of asking will give you more detailed information on the degree to which the product is liked.\n",
    "\n",
    "Not only does the measur we choose for our data collection determine the sensitivity, it will also determine what type of statistical analysis we can apply. Therefore it is always smart to think as far as data analsysis *before* you collect your data.\n"
   ]
  },
  {
   "cell_type": "markdown",
   "metadata": {
    "id": "N8jNiR4gBnfp"
   },
   "source": [
    "### Try out 3: \n",
    "Compare the above examples to the commonly-used experience rating found here in Microsoft Teams. \n",
    "\n",
    "What kind of data is this? How is the sensitivity compared to other scales that could have been used?\n",
    "\n",
    "\n",
    "![](./UXfigures/CallQuality.png \"Title\")"
   ]
  },
  {
   "cell_type": "code",
   "metadata": {
    "ExecuteTime": {
     "end_time": "2025-02-20T10:07:34.668525Z",
     "start_time": "2025-02-20T10:07:34.667076Z"
    }
   },
   "source": [],
   "outputs": [],
   "execution_count": null
  }
 ],
 "metadata": {
  "colab": {
   "name": "UX_Collecting_Data.ipynb",
   "provenance": [
    {
     "file_id": "https://github.com/sofiadahl/Design_and_Analysis_of_Experiments/blob/main/DAE1_Variables.ipynb",
     "timestamp": 1620111895012
    }
   ]
  },
  "kernelspec": {
   "display_name": "Python 3",
   "language": "python",
   "name": "python3"
  },
  "language_info": {
   "codemirror_mode": {
    "name": "ipython",
    "version": 3
   },
   "file_extension": ".py",
   "mimetype": "text/x-python",
   "name": "python",
   "nbconvert_exporter": "python",
   "pygments_lexer": "ipython3",
   "version": "3.7.3"
  }
 },
 "nbformat": 4,
 "nbformat_minor": 4
}
