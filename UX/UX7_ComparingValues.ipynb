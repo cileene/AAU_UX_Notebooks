{
 "cells": [
  {
   "cell_type": "markdown",
   "metadata": {
    "id": "Y2j2qUfoHEFb"
   },
   "source": [
    "# UX7 Comparing Values\n",
    "\n",
    "Author:\n",
    "- |\n",
    "    Sofia Dahl, sof@create.aau.dk\\\n",
    "    Dept. Architecture, Design and Media Technology, Aalborg University Copenhagen\n",
    "---\n",
    "\n",
    "## Learning goals\n",
    "\n",
    "After working your way through this notebook you should be able to..\n",
    "- Compare between and within group designs\n",
    "- Explain the different assumptions for for parametric tests\n",
    "- Choose the appropriate t-test for your data\n",
    "\n",
    "\n",
    "## Table of Contents\n",
    "- [1 Parametric Data](#parametric)\n",
    "    - [1.1 Student t-test](#studentttest)\n",
    "- [2. Within Group Design](#WithinGroup)\n",
    "    - [2.1 T-test for two related samples](#relttest)\n",
    "    - [2.2 Normality Assumption for paired sample t-test](#Normality)\n",
    "- [3. Between Group Design](#BetweenGroup)    \n",
    "    - [3.1 Assumptions for independent t-tests](#IndepAssumptions)\n",
    "    - [3.2 Equal Variance](#EqualVariance)\n",
    "    - [3.3 T-test for two independent samples](#Indepttest)\n",
    "- [4. Apply Caution and Common Sense](#CommonSense)"
   ]
  },
  {
   "cell_type": "markdown",
   "metadata": {
    "id": "K-_O0cHFHEFh"
   },
   "source": [
    "<a id= 'Descriptive'> </a>"
   ]
  },
  {
   "cell_type": "code",
   "metadata": {
    "executionInfo": {
     "elapsed": 1428,
     "status": "ok",
     "timestamp": 1620479647456,
     "user": {
      "displayName": "Prithvi Kantan",
      "photoUrl": "https://lh3.googleusercontent.com/a-/AOh14GiCLUP5h_S53ydSDrgq_SLOZBd5_3wFs87fFb5XQA=s64",
      "userId": "18111691564717832004"
     },
     "user_tz": -120
    },
    "id": "TGTniH9CHEFh",
    "ExecuteTime": {
     "end_time": "2025-04-03T09:12:31.068790Z",
     "start_time": "2025-04-03T09:12:28.698120Z"
    }
   },
   "source": [
    "%matplotlib inline\n",
    "import numpy as np\n",
    "import pandas as pd\n",
    "import matplotlib.pyplot as plt\n",
    "import scipy.stats as stats"
   ],
   "outputs": [],
   "execution_count": 1
  },
  {
   "cell_type": "markdown",
   "metadata": {},
   "source": [
    "<a id= 'parametric'> </a>"
   ]
  },
  {
   "cell_type": "markdown",
   "metadata": {
    "id": "4RgYJyIV6il-"
   },
   "source": [
    "\n",
    "## 1. Parametric Data\n",
    "Parametric tests have *more statistical power* than tests for non-normal distributions. That is, given a specific alpha-level, we are more likely to detect a real change with smaller sample sizes when we use parametric tests compared to when we use non-parametric tests.\n",
    "\n",
    "So there are plenty of reasons for us to want parametric data. However, we cannot just go ahead and use them for any type of data. We have to check that our data fulfill some assumptions, if we wish to use the parametric tests.\n",
    "\n",
    "The assumptions are based on the knowledge that parametric tests use the (arithmetic) mean and variance - characteristics that describe the normal distribution. It is therefore important for us to ensure that these measures are meaningful and accurate enough **for our data**. Otherwise the parametric tests will not owrk as intended. That is, we can still run the parametric test functions, but cannot trust the results that they yield. \n",
    "\n",
    "The assumptions vary with  \n",
    "- The type of test design\n",
    "- The type of test\n",
    "\n",
    "Although the test design can be more complex, we will here concentrate on the two most common. That is comparing *between two groups of users* (\"Between group design\"), and comparing differences between two conditions *for the same user* (\"Within group desing\")\n"
   ]
  },
  {
   "cell_type": "markdown",
   "metadata": {
    "id": "JUXwRyEzHEFi"
   },
   "source": [
    "<a id= 'studentttest'> </a>"
   ]
  },
  {
   "cell_type": "markdown",
   "metadata": {},
   "source": [
    "### 1.1 Student t-test\n",
    "\n",
    "\n",
    "We have already encountered the t-distribution and the single sample t-test. You may recall, that the t-distribution is similar to the normal distribution, but wider and flatter to compensate for the fact that samples underestimate the variability in the true population.\n",
    "\n",
    "For the t-test, the degrees of freedom (df or DoF) refer to the values in the sample size number that are free to vary once the means are known. Because the true population mean $\\mu$ and variance $\\sigma^2$\n",
    "are unknown, one degree must be \"sacrificed\" to estimate the mean when estimating variability. The larger the sample, the more similar the t-distribution becomes to a normal distribution.\n",
    "\n",
    "As a rule of thumb, you can calculate the degrees of freedom as the sample size $N$ minus the number of sample groups. In the case of single sample t-test, there is only one group so df = N - 1. When you have\n",
    "two groups to compare, two mean values need to be estimated, and thus df = N - 2."
   ]
  },
  {
   "cell_type": "markdown",
   "metadata": {
    "id": "_nBppsHfHEFp"
   },
   "source": [
    "<a id= 'WithinGroup'> </a> "
   ]
  },
  {
   "cell_type": "markdown",
   "metadata": {
    "id": "_Mn1TfxMHEFp"
   },
   "source": [
    "## 2. Within group design\n",
    "\n",
    "Individual differences between users typically add a lot of unsystematic variance because scores may be affected by personal experience, preferences, and the like. One way to reduce this effect on the dependent measure is to let the same participants be in both experimental and control conditions. To avoid any systematic order effects that we are not interested in, it is very important that we *counter balance* (alternate) the order for different participants.\n",
    "\n",
    "![](./UXfigures/WithinGroupDesign.png \"Title\")\n",
    "\n",
    "In within group, or **repeated measures** design, we have two samples that are *dependent*\n",
    "because they come from the same individuals (who are participating in all experimental conditions). Therefore, their individual quirks or skills matter less since we compare each user to themselves. "
   ]
  },
  {
   "cell_type": "markdown",
   "metadata": {},
   "source": [
    "<a id= 'relttest'> </a> "
   ]
  },
  {
   "cell_type": "markdown",
   "metadata": {},
   "source": [
    "\n",
    "### 2.1  t-test for two related samples\n",
    "The null hypothesis would be that there are no significant differences between the conditions, and so the\n",
    "t-statistic is calculated to test the *difference* between the paired scores in the two cases. This test is also called **paired samples t-test** and is, in principle, the same as a single sample t-test but with $\\mu_{expected}$  always zero.\n",
    "\n",
    "Why is that? Well, we have some knowledge of what could be expected if there is no effect of which condition/design the users try. In that case, the paired scores should be approximately equal, yielding a difference of zero. So our t statistic is calculated\n",
    "\n",
    "$$t  =\\frac {\\bar{D}} {\\sqrt{\\frac{{s_D}^2}{n}}}$$\n",
    "\n",
    "Where $\\bar{D}$ is the *difference between the scores for a particular user in the different conditions* and $s_D$ the standard deviation of these scores.\n",
    "\n",
    "Note that even if the rationale is similar, one cannot use the same function call for related samples as one would for a single sample t-test. It would not do the right comparison."
   ]
  },
  {
   "cell_type": "code",
   "metadata": {
    "id": "Pcc3ku4UHEFm",
    "outputId": "f56240bd-bc09-4bf6-aec4-de191a0629b2",
    "ExecuteTime": {
     "end_time": "2025-04-03T09:12:31.081455Z",
     "start_time": "2025-04-03T09:12:31.079254Z"
    }
   },
   "source": [
    "# We generate some data\n",
    "K=30\n",
    "Romb=np.random.normal(3.8,3,K)\n",
    "Elipse=np.random.normal(4.9,3,K)\n",
    "\n",
    "D=Romb-Elipse"
   ],
   "outputs": [],
   "execution_count": 2
  },
  {
   "cell_type": "markdown",
   "metadata": {},
   "source": [
    "### Try out 1: \n",
    "Plot the histogram of the difference between scores for the two designs (Romb and Elipse)."
   ]
  },
  {
   "cell_type": "code",
   "metadata": {
    "ExecuteTime": {
     "end_time": "2025-04-03T09:12:31.157063Z",
     "start_time": "2025-04-03T09:12:31.091380Z"
    }
   },
   "source": [
    "# Modify the below code so that instead of two histograms it shows the histogram of differences between data points\n",
    "\n",
    "plt.hist([Romb,Elipse], bins=6)\n",
    "plt.show()"
   ],
   "outputs": [
    {
     "data": {
      "text/plain": [
       "<Figure size 432x288 with 1 Axes>"
      ],
      "image/png": "[encoded data removed]"
     },
     "metadata": {
      "needs_background": "light"
     },
     "output_type": "display_data"
    }
   ],
   "execution_count": 3
  },
  {
   "cell_type": "markdown",
   "metadata": {},
   "source": [
    "<a id= 'Normality'> </a> "
   ]
  },
  {
   "cell_type": "markdown",
   "metadata": {
    "id": "6K2KDtR2HEFp"
   },
   "source": [
    "### 2.2 Normality Assumption for paired sample t-test\n",
    "\n",
    "The related, or paired sample t-test is a parametric test and it assumes data to be from a normal distribution. It is therefore a good idea to plot data and check if this assumption is fulfilled. \n",
    "\n",
    "Above we plotted histograms of data and this can be a good start, but also deceptive. What we are trying to determine is the type of distribution of *the population* that the sample was drawn from. It is not easy to determine the shape of the distribution based on a histogram. Especially for smaller sample sizes, the histogram shape can vary a lot, and is also dependent on the number of frequency bins (value ranges) used to display the data. But we can also use other ways to look at the data and test the assumption. "
   ]
  },
  {
   "cell_type": "markdown",
   "metadata": {
    "id": "Q2N2NPDY6imE"
   },
   "source": [
    "#### QQ-plots\n",
    "QQ plots show the actual data points plotted against what could be expected if they had been drawn from a population with normal distribution. This is done by ordering the values against the theoretical quantiles. Ideally, the points should all line up along the diagonal. It is seldom seen that they do so perfectly, but when the data is offset too much, wiggles around the line, or forms an s-shape around the line, there is reason for caution. "
   ]
  },
  {
   "cell_type": "code",
   "metadata": {
    "id": "4XnCpXmB6imE",
    "outputId": "d2f01007-c427-458c-b86f-8b83375a822d",
    "ExecuteTime": {
     "end_time": "2025-04-03T09:12:31.279300Z",
     "start_time": "2025-04-03T09:12:31.211045Z"
    }
   },
   "source": [
    "# Use stats.probplot to make a qq-plot\n",
    "stats.probplot(D, plot=plt);\n"
   ],
   "outputs": [
    {
     "data": {
      "text/plain": [
       "<Figure size 432x288 with 1 Axes>"
      ],
      "image/png": "[encoded data removed]"
     },
     "metadata": {
      "needs_background": "light"
     },
     "output_type": "display_data"
    }
   ],
   "execution_count": 4
  },
  {
   "cell_type": "markdown",
   "metadata": {
    "id": "CFR61IH66imE"
   },
   "source": [
    "#### Normality tests\n",
    "There are several tests for normality, one being the Shapiro-Wilk test. In the help information for the function we can read that \"The Shapiro-Wilk test tests the null hypothesis that the data was drawn from a normal distribution.\"\n",
    "\n",
    "So to test whether we can use parametric tests, we actually use other statistical tests. And just like the statistical tests we want to use for our main hypothesis, we also need to be a bit careful about the use and interpretation of these tests. \n"
   ]
  },
  {
   "cell_type": "markdown",
   "metadata": {
    "id": "WDmnc6Bw6imF"
   },
   "source": [
    "### Try out 2: \n",
    "Check the hypothesis of the Shapiro-Wilk test. Perform the test for the diffrence between design Romb and Elipse scores."
   ]
  },
  {
   "cell_type": "code",
   "metadata": {
    "colab": {
     "base_uri": "https://localhost:8080/"
    },
    "executionInfo": {
     "elapsed": 539,
     "status": "ok",
     "timestamp": 1620903934279,
     "user": {
      "displayName": "Prithvi Kantan",
      "photoUrl": "https://lh3.googleusercontent.com/a-/AOh14GiCLUP5h_S53ydSDrgq_SLOZBd5_3wFs87fFb5XQA=s64",
      "userId": "18111691564717832004"
     },
     "user_tz": -120
    },
    "id": "dH81PCy-6imF",
    "outputId": "da217e9c-02bf-4c96-ff5a-6b14426016ad",
    "ExecuteTime": {
     "end_time": "2025-04-03T09:15:26.776116Z",
     "start_time": "2025-04-03T09:15:26.768029Z"
    }
   },
   "source": [
    "# Shapiro-Wilk normality test for difference scores \n",
    "help(stats.shapiro)\n",
    "stats.shapiro(D)\n"
   ],
   "outputs": [
    {
     "name": "stdout",
     "output_type": "stream",
     "text": [
      "Help on function shapiro in module scipy.stats.morestats:\n",
      "\n",
      "shapiro(x)\n",
      "    Perform the Shapiro-Wilk test for normality.\n",
      "    \n",
      "    The Shapiro-Wilk test tests the null hypothesis that the\n",
      "    data was drawn from a normal distribution.\n",
      "    \n",
      "    Parameters\n",
      "    ----------\n",
      "    x : array_like\n",
      "        Array of sample data.\n",
      "    \n",
      "    Returns\n",
      "    -------\n",
      "    statistic : float\n",
      "        The test statistic.\n",
      "    p-value : float\n",
      "        The p-value for the hypothesis test.\n",
      "    \n",
      "    See Also\n",
      "    --------\n",
      "    anderson : The Anderson-Darling test for normality\n",
      "    kstest : The Kolmogorov-Smirnov test for goodness of fit.\n",
      "    \n",
      "    Notes\n",
      "    -----\n",
      "    The algorithm used is described in [4]_ but censoring parameters as\n",
      "    described are not implemented. For N > 5000 the W test statistic is accurate\n",
      "    but the p-value may not be.\n",
      "    \n",
      "    The chance of rejecting the null hypothesis when it is true is close to 5%\n",
      "    regardless of sample size.\n",
      "    \n",
      "    References\n",
      "    ----------\n",
      "    .. [1] https://www.itl.nist.gov/div898/handbook/prc/section2/prc213.htm\n",
      "    .. [2] Shapiro, S. S. & Wilk, M.B (1965). An analysis of variance test for\n",
      "           normality (complete samples), Biometrika, Vol. 52, pp. 591-611.\n",
      "    .. [3] Razali, N. M. & Wah, Y. B. (2011) Power comparisons of Shapiro-Wilk,\n",
      "           Kolmogorov-Smirnov, Lilliefors and Anderson-Darling tests, Journal of\n",
      "           Statistical Modeling and Analytics, Vol. 2, pp. 21-33.\n",
      "    .. [4] ALGORITHM AS R94 APPL. STATIST. (1995) VOL. 44, NO. 4.\n",
      "    \n",
      "    Examples\n",
      "    --------\n",
      "    >>> from scipy import stats\n",
      "    >>> rng = np.random.default_rng()\n",
      "    >>> x = stats.norm.rvs(loc=5, scale=3, size=100, random_state=rng)\n",
      "    >>> shapiro_test = stats.shapiro(x)\n",
      "    >>> shapiro_test\n",
      "    ShapiroResult(statistic=0.9813305735588074, pvalue=0.16855233907699585)\n",
      "    >>> shapiro_test.statistic\n",
      "    0.9813305735588074\n",
      "    >>> shapiro_test.pvalue\n",
      "    0.16855233907699585\n",
      "\n"
     ]
    },
    {
     "data": {
      "text/plain": [
       "ShapiroResult(statistic=0.8758091330528259, pvalue=0.0022621594835072756)"
      ]
     },
     "execution_count": 10,
     "metadata": {},
     "output_type": "execute_result"
    }
   ],
   "execution_count": 10
  },
  {
   "cell_type": "markdown",
   "metadata": {},
   "source": [
    "The test statistic for this test (and other tests of parametric daata) is something we may report together with the p-value when writing that we tested for normality, so that others can check up on whether it was correct. Otherwise we do not use it much.\n",
    "\n",
    "\n",
    "### Try out 3: \n",
    "Perform a related t-test on the designs Romb and Elipse scores as if they were collected from the same participant."
   ]
  },
  {
   "cell_type": "code",
   "metadata": {
    "id": "Eg_vVYsgHEFp",
    "ExecuteTime": {
     "end_time": "2025-04-03T09:12:31.327040Z",
     "start_time": "2025-04-03T09:12:31.325342Z"
    }
   },
   "source": [
    "# For a related t-test the function is :\n",
    "# help(stats.ttest_rel)\n"
   ],
   "outputs": [],
   "execution_count": 6
  },
  {
   "cell_type": "markdown",
   "metadata": {},
   "source": [
    "<a id= 'BetweenGroup'> </a>"
   ]
  },
  {
   "cell_type": "markdown",
   "metadata": {},
   "source": [
    "## 3. Between Group design\n",
    "\n",
    "Although within group designs solves many things there are also drawbacks. One is that for each participant the experiment can become quite lengthy. Another is that it can be very tricky to avoid some of the order effects. For instance, participants get more tired or trained as the test proceeds. In some cases we are also interested in participants' first immediate reaction - and asking them several times for different designs will not give the right result. So in many instances, we want the data for the different conditions to be *independent*. \n",
    "We can achieve this by randomly assigning participants to do either an experimental or a control condition.\n",
    "\n",
    "![](./UXfigures/BetweenGroupDesign.png \"Title\")\n"
   ]
  },
  {
   "cell_type": "markdown",
   "metadata": {
    "id": "6GrS2Zuw6il-"
   },
   "source": [
    "<a id= 'IndepAssumptions'> </a>"
   ]
  },
  {
   "cell_type": "markdown",
   "metadata": {
    "id": "6Dye-JzZ6il_"
   },
   "source": [
    "### 3.1 Assumptions for independent t-tests\n",
    "\n",
    "Before we can apply the independent t-test we have a few more assumptions about our data to check: \n",
    "\n",
    "- Representativeness: The samples are representative of their respective population\n",
    "\n",
    "- Independence: The values in the two samples are not related\n",
    "\n",
    "- Normality: Both samples are (approximately) normally distributed \n",
    "\n",
    "- Homogeneity of variances: Variances should be approximately equal for the two samples \n",
    "\n",
    "\n",
    "So in addition to the normality check we did above, we also should spend some thought about whether our data scores for the different groups are independent (that is, come from different users)? And are the scores representative for their respective population? Can we consider the variances (standard deviations) of the two groups to be approximately equal? "
   ]
  },
  {
   "cell_type": "markdown",
   "metadata": {
    "id": "Unf8Ev576imB"
   },
   "source": [
    "<a id= 'EqualVariance'> </a>"
   ]
  },
  {
   "cell_type": "markdown",
   "metadata": {
    "id": "yH4ZNP5U6imC"
   },
   "source": [
    "### 3.2 Equal variance\n",
    "An important assumption is that the data has (approximately) equal variance. This is important because **the variance says something about the precision of the mean**, and so it is not ideal for different groups we compare to have different mean measurement precisions. \n",
    "\n",
    "This is also an assumption that is easily violated when using small sample sizes. This is logical, because the larger the sample, the more similar the sample variance will be to the true variance of the population. For the same reason, unequal sample sizes (that is different amount of users in the two groups) may also make this a problem.\n",
    "\n",
    "We can get an idea about the spread of the data from histograms and box plots. Box plots quickly visualize where the majority of data points are, and whether there are outliers."
   ]
  },
  {
   "cell_type": "markdown",
   "metadata": {
    "id": "HIrIC9yS6imC"
   },
   "source": [
    "#### Levene test\n",
    "We can also use a test such as the Levene test. This also tests a hypothesis (they all do) so again it is a good idea to check the 'help' of a function to know how the hypothesis is formulated. \n"
   ]
  },
  {
   "cell_type": "code",
   "metadata": {
    "id": "jVKpUaXH6imD",
    "outputId": "ad6c2375-060b-4560-bc57-14c69b69d91a",
    "ExecuteTime": {
     "end_time": "2025-04-03T09:12:31.350433Z",
     "start_time": "2025-04-03T09:12:31.347103Z"
    }
   },
   "source": [
    "# Levene variance test for the two groups, use .dropna() to exclude NaN values\n",
    "stats.levene(Romb, Elipse)\n",
    "\n",
    "#help(stats.levene) #to check details"
   ],
   "outputs": [
    {
     "data": {
      "text/plain": [
       "LeveneResult(statistic=0.46865527594203005, pvalue=0.4963330482184527)"
      ]
     },
     "execution_count": 7,
     "metadata": {},
     "output_type": "execute_result"
    }
   ],
   "execution_count": 7
  },
  {
   "cell_type": "markdown",
   "metadata": {
    "id": "pKrhszsW6imD"
   },
   "source": [
    "How should the output be interpreted? The p-value gives the probability that the two samples come from populations with equal variances. You can go to the top and check whether the result here matches what was entered in the generation of the data (above Try out 1). \n",
    "\n",
    "\n",
    "### Try out 4\n",
    "Lower the sample size for Romb and Elipse but keep standard deviation the same. Does the output of Levene test suggest another interpretation now?\n"
   ]
  },
  {
   "cell_type": "markdown",
   "metadata": {
    "id": "1rA-yrdp6imG"
   },
   "source": [
    "### Try out 5: \n",
    "Does this data fulfil the assumptions for parametric tests? Plot the data and perform tests for normality and equal variances as above. Change K so that sample sizes are \n",
    "\n",
    "- 20\n",
    "- 100\n",
    "- 1000\n",
    "\n",
    "Also plot histograms of the data."
   ]
  },
  {
   "cell_type": "code",
   "metadata": {
    "id": "YHjezBQw6imG",
    "outputId": "f233c4bf-f0b2-4d99-d4c4-a5cad9ae1ff5",
    "ExecuteTime": {
     "end_time": "2025-04-03T09:12:31.416367Z",
     "start_time": "2025-04-03T09:12:31.376048Z"
    }
   },
   "source": [
    "# Does this data fulfil the assumptions for an independent t-test?\n",
    "\n",
    "K=20 # variable for sample size\n",
    "Group1=np.random.beta(0.4,0.5,K)\n",
    "Group2=np.random.normal(0.01,0.5,K)\n",
    "\n",
    "# plot box plots\n",
    "plt.boxplot([Group1,Group2])\n",
    "plt.show()\n",
    "# plot qq-plots and perform tests for normality and equal variance\n",
    "#"
   ],
   "outputs": [
    {
     "data": {
      "text/plain": [
       "<Figure size 432x288 with 1 Axes>"
      ],
      "image/png": "[encoded data removed]"
     },
     "metadata": {
      "needs_background": "light"
     },
     "output_type": "display_data"
    }
   ],
   "execution_count": 8
  },
  {
   "cell_type": "markdown",
   "metadata": {
    "id": "xlpjeE3sHEFl"
   },
   "source": [
    "<a id= 'Indepttest'> </a>"
   ]
  },
  {
   "cell_type": "markdown",
   "metadata": {
    "id": "GI7ClQ4kHEFl"
   },
   "source": [
    "### 3.3 T-test for two independent samples\n",
    "\n",
    "After checking that it is indeed the independent t-test we should do we can proceed with selecting the right function. \n",
    "The t-statistic for *two independent samples* is a ratio. The t-value is calculated as the\n",
    "difference (in means) *between* groups divided by the variability\n",
    "*within* groups:\n",
    "$$t  =\\frac {\\bar{x}_1-\\bar{x}_2} {\\sqrt{\\frac{s_1^2}{n_1}+\\frac{s_2^2}{n_2}}}$$\n",
    "\n",
    "Where $\\bar{x}_1$ and $\\bar{x}_2$ are sample means and the sample\n",
    "variance $s^2$ for each group is calculated as: \n",
    "\n",
    "$$s^2  =\\frac {\\sum_i^N{ (x_i-\\bar{x})^2}} {n-1}$$\n",
    "\n"
   ]
  },
  {
   "cell_type": "markdown",
   "metadata": {
    "id": "trZyGhkNHEFo"
   },
   "source": [
    "### Try out 6: \n",
    "Perform an independent t-test with the data for Groups 1 and 2 (as generated above). What does the output mean?"
   ]
  },
  {
   "cell_type": "code",
   "metadata": {
    "id": "DhCgwWheHEFo",
    "ExecuteTime": {
     "end_time": "2025-04-03T09:12:31.424249Z",
     "start_time": "2025-04-03T09:12:31.422103Z"
    }
   },
   "source": [
    "# First check \n",
    "# help(stats.ttest_ind)\n",
    "\n",
    "# Modify this call to get the output of the test\n",
    "# stats.ttest_ind()"
   ],
   "outputs": [],
   "execution_count": 9
  },
  {
   "cell_type": "markdown",
   "metadata": {
    "id": "rrNJz7ab6imE"
   },
   "source": [
    "<a id= 'NormalDist'> </a>"
   ]
  },
  {
   "cell_type": "markdown",
   "metadata": {
    "id": "l-rteDC76imF"
   },
   "source": [
    "<a id= 'CommonSense'> </a>"
   ]
  },
  {
   "cell_type": "markdown",
   "metadata": {
    "id": "IiVE6sS36imG"
   },
   "source": [
    "## 4. Apply Caution and Common Sense\n",
    "\n",
    "As mentioned above, there are some benefits of both plotting and testing - but also several things to be aware of. Histograms do not give a good idea of normality for small sample sizes, and it is difficult to know *how* much of a difference from normal is \"acceptable\". Here, the tests can help. However, as the power of a test is dependent on sample size, even small deviations in large sample sizes can light up the \"significant\"-flag, implying that data is significantly different from normally distributed data. Like for any other statistical test, we also accept a certain probability of making Type I (and Type II) errors.\n",
    "\n",
    "On the one hand, normally distributed data is perhaps not as commonly occuring as we would like it to be (for instance we know to expect taks times to be skewed). On the other hand, t-tests are also known to be robust enough to handle that data does not fully tick off all assumptions, for instance normality. It may be more severe with violation of unequal variances between samples, especially when the sample sizes are unequal. Small differences are typically ok.\n",
    "\n",
    "If plots, tests, and your common sense cannot defend using parametric tests there are other *non parametric tests* that do not make assuptions about the population. "
   ]
  },
  {
   "cell_type": "markdown",
   "metadata": {
    "id": "311hgeTnHEFp"
   },
   "source": [
    "### Try out 7\n",
    "\n",
    "The data used for the exercises here above have random variability and will change as they are newly drawn each time you assign values to Romb, and Elipse or Group 1 and 2. Run through the code for independent and dependent t-tests and see how much the result differs between new samples. Also change the sample size. \n",
    "\n",
    "Note how comparably small effect sizes are more likely to come out as significant as the sample size increases due to increased power (compare below 30 with 300 and 3000 for example). "
   ]
  },
  {
   "cell_type": "code",
   "metadata": {
    "id": "jhnD594aHEFq",
    "ExecuteTime": {
     "end_time": "2025-04-03T09:12:31.440046Z",
     "start_time": "2025-04-03T09:12:31.438643Z"
    }
   },
   "source": [],
   "outputs": [],
   "execution_count": null
  }
 ],
 "metadata": {
  "colab": {
   "collapsed_sections": [],
   "name": "UX7_ComparingValues.ipynb",
   "provenance": [
    {
     "file_id": "https://github.com/sofiadahl/Design_and_Analysis_of_Experiments/blob/main/DAE8_ttest.ipynb",
     "timestamp": 1620479616186
    }
   ]
  },
  "kernelspec": {
   "display_name": "Python 3",
   "language": "python",
   "name": "python3"
  },
  "language_info": {
   "codemirror_mode": {
    "name": "ipython",
    "version": 3
   },
   "file_extension": ".py",
   "mimetype": "text/x-python",
   "name": "python",
   "nbconvert_exporter": "python",
   "pygments_lexer": "ipython3",
   "version": "3.7.3"
  }
 },
 "nbformat": 4,
 "nbformat_minor": 4
}
