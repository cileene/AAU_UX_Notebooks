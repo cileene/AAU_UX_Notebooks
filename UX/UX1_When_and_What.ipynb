{
 "cells": [
  {
   "cell_type": "markdown",
   "metadata": {
    "id": "C-z71414BnfZ"
   },
   "source": [
    "# UX 1 When and what type of usability testing?\n",
    "\n",
    "Author:\n",
    "- |\n",
    "    Sofia Dahl, sof@create.aau.dk\\\n",
    "    Dept. Architecture, Design and Media Technology, Aalborg University Copenhagen\n",
    "---\n",
    "\n",
    "## Learning Goals\n",
    "After working your way through this notebook you should be able to:\n",
    "\n",
    "- Explain difference between formative and summative testing\n",
    "- Explain what is meant by 'population' and 'sample'\n",
    "- Explain what is important when selecting samples\n",
    "- Enter some data and create data structures\n",
    "  \n",
    "\n",
    "## Table of Contents\n",
    "\n",
    "- [1. Why and when do we need data?](#WhyWhen)\n",
    "    - [1.1 Why do we collect data?](#WhyData)\n",
    "    - [1.2 When do we collect data?](#WhenData)\n",
    "- [2. How to collect data?](#HowData)\n",
    "    - [2.1 Population](#Population)\n",
    "    - [2.2 Samples](#Samples)\n",
    "- [3. Recording Data](#RecordingData)\n",
    "    - [3.1 Data series](#DataSeries)\n",
    "    - [3.2 Data frames](#DataFrame)\n",
    "    - [3.3 Adding data to data frames](#AddData)\n",
    "- [4. Random Sampling](#RandomSampling)"
   ]
  },
  {
   "cell_type": "markdown",
   "metadata": {
    "id": "Itlq_U7VBnfi"
   },
   "source": [
    "<a id= 'WhyWhen'> </a>"
   ]
  },
  {
   "cell_type": "markdown",
   "metadata": {
    "id": "7BD6GoVGBnfi"
   },
   "source": [
    "\n",
    "## 1 Why and when do we need data?\n",
    "\n",
    "You, or your team, have an idea. A great idea possibly. Ideally, you would like to go right ahead and develop the product, and perhaps make lots of fame and/or money!\n",
    "\n",
    "But wait! Collecting data from user tests will save you from spending resources (= time and money) on solutions that do not work as intended. It may not guarantee that your product ends up in the museum of failure, but it will certainly reduce the risk.\n",
    "\n",
    "https://museumoffailure.com/\n",
    "\n",
    "\n",
    "So, even though you may think of product development like this:\n",
    "![](./UXfigures/IdeaProduct.png \"Title\")\n",
    "\n",
    "\n",
    "\n",
    "\n",
    "...the truth is perhaps closer to this:\n",
    "\n",
    "![](./UXfigures/IdeaProductReality.png \"Reality\")"
   ]
  },
  {
   "cell_type": "markdown",
   "metadata": {
    "id": "BMy5XJXtBnfi"
   },
   "source": [
    "\n",
    "<a id= 'WhyData'> </a>"
   ]
  },
  {
   "cell_type": "markdown",
   "metadata": {
    "id": "BjA_6dzjBnfj"
   },
   "source": [
    "\n",
    "### 1.1 Why do we collect data?\n",
    "\n",
    "We collect data because we want to make informed decisions. At different points during development, we will take choices with regards to design and implementation methods or platforms. If we want to know how these decisions will influence the outcome of the product and how users interact with it, we have to collect data. Moreover, we have to know how to make sense of the data.\n",
    "\n",
    "UX testing and data analysis takes resources in terms of time and money, so we should use these wisely. Therefore we must also plan to get *useful* data that will help us make the right decisions."
   ]
  },
  {
   "cell_type": "markdown",
   "metadata": {
    "id": "LJSPjQ1khoWn"
   },
   "source": [
    "\n",
    "<a id= 'WhenData'> </a>"
   ]
  },
  {
   "cell_type": "markdown",
   "metadata": {
    "id": "Kl4jJl3rhoWn"
   },
   "source": [
    "\n",
    "### 1.2 When do we collect data?\n",
    "\n",
    "Depending on what kinds of decisions we need to make and what questions we need answers to, we can make a different kind of collection of usability data.\n",
    "\n",
    "*Formative* tests aim at identifying and fixing different issues in terms of usability problems. This testing takes place during the development cycle. Perhaps like this:\n",
    "![](./UXfigures/Iterative-development-testing.png \"Title\")\n",
    "\n",
    "*Summative* tests aim at using metrics to describe the usability of a product/application, for instance by comparing it to another product or a benchmark.\n",
    "\n",
    "\n",
    "The formative testing is typically done with smaller samples of users, because the goal is to find and identify problems without spending too many resources. Qualitative data is useful for this, but so is quantitative data such as completion rate, how many errors users encountered, types of errors etc. All this we can analyze.\n",
    "\n",
    "When the product development iterations have produced something useful enough, summative testing can be used to quantify how the product compares either to another product or a set of benchmark goals.\n"
   ]
  },
  {
   "cell_type": "markdown",
   "metadata": {
    "id": "_XDb5YCAhoWn"
   },
   "source": [
    "<a id= 'HowData'> </a>"
   ]
  },
  {
   "cell_type": "markdown",
   "metadata": {
    "id": "uP6Laep6Bnfo"
   },
   "source": [
    "## 2 How to collect data?"
   ]
  },
  {
   "cell_type": "markdown",
   "metadata": {
    "id": "fF1UrFy4hoWn"
   },
   "source": [
    "<a id= 'Population'> </a>"
   ]
  },
  {
   "cell_type": "markdown",
   "metadata": {
    "id": "BzjVNgV8hoWn"
   },
   "source": [
    "### 2.1 Population <a id= 'Population'> </a>\n",
    "Typically we are concerned with a particular group of users: our user group. In statistics, we talk about the population, which includes *ALL* individuals that we are interested in. This could for instance mean *ALL* X-box gamers between 17-23 years old; *ALL* university teachers in Denmark;  *ALL* students at Medialogy...\n",
    "\n",
    "Note that the population can be very different depending on what your product (or research question) targets, but regardless it includes ALL individuals in it.\n",
    "\n",
    "If we did not have to be conservative about spending resources such as time and money, it would be grand to include all these relevant users, the full population, because then we have the full truth. But in most cases this is just not feaasible. Instead we take samples."
   ]
  },
  {
   "cell_type": "markdown",
   "metadata": {
    "id": "zEP1J-wYhoWn"
   },
   "source": [
    "<a id= 'Samples'> </a>"
   ]
  },
  {
   "cell_type": "markdown",
   "metadata": {
    "id": "1Y92H42IhoWo"
   },
   "source": [
    "### 2.2 Samples\n",
    "The most important when taking a sample is that it should be *representative of the population*. This means that you need to think about how you *recruit* your sample.\n",
    "If you are aiming to develop an application to ease the life of young single mothers, testing it with a sample consisting of 45-50 year old males is not going to be very helpful. This may sound like an obvious thing, but convenience sampling (that is, recruiting participants where easy) is a common procedure. Unfortunately it can lead to samples that are not representing the actual population. For instance, a lot of psychological research are based on data collected from undergraduate students, which can make generalization to the overall population dubious.\n",
    "\n",
    "Depending on the question we need our data to answer, getting the right sample can be very important. If we want to design an application to be used by sight-impaired, it is more valuable to test it with a handful of users from this group, than collecting data from 100 normal sighted.\n",
    "\n",
    "In short, a thouoghtfully collected sample is useful IF it represents the user group we want to make inferenses about."
   ]
  },
  {
   "cell_type": "markdown",
   "metadata": {
    "id": "N8jNiR4gBnfp"
   },
   "source": [
    "### Try out 1:\n",
    "Make a list of issues that may arise from testing with a sample, not representative of the actual user group one wants to target."
   ]
  },
  {
   "cell_type": "markdown",
   "metadata": {
    "id": "4x9m2i4uBnfm"
   },
   "source": [
    "<a id= 'RecordingData'> </a>"
   ]
  },
  {
   "cell_type": "markdown",
   "metadata": {
    "id": "dqraZa8vhoWo"
   },
   "source": [
    "## 3 Recording data  \n",
    "Now let's get into business. We will start to get some data into python and pandas (https://pandas.pydata.org/pandas-docs/stable/user_guide/10min.html ).\n",
    "If you have never used python or pandas before, don't fret, we'll go slow.\n",
    "\n",
    "First we need to load some libraries. Execute the code snippet here below to avoid having errors later on. You can use shortcut Ctrl + Enter to run selected cell."
   ]
  },
  {
   "cell_type": "code",
   "metadata": {
    "id": "8V7bcmYwhoWo",
    "ExecuteTime": {
     "end_time": "2025-02-13T21:09:27.573138Z",
     "start_time": "2025-02-13T21:09:27.156890Z"
    }
   },
   "source": [
    "\n",
    "import pandas as pd\n"
   ],
   "outputs": [],
   "execution_count": 7
  },
  {
   "cell_type": "markdown",
   "metadata": {
    "id": "WkgX68qyhoWp"
   },
   "source": [
    "<a id= 'DataSeries'> </a>"
   ]
  },
  {
   "cell_type": "markdown",
   "metadata": {
    "id": "8CObOCwUhoWp"
   },
   "source": [
    "### 3.1 Data series\n",
    "Now let's record some data.\n",
    "Assume you have done formative testing with six users, recording the number of errors they encountered with your application.\n",
    "\n",
    "|User  | # Errors|\n",
    "|-----|-----|\n",
    "| A| 1 |\n",
    "| B| 5 |\n",
    "| C| 1 |\n",
    "| D| 3 |\n",
    "| E| 2 |\n",
    "| F| 2 |\n"
   ]
  },
  {
   "cell_type": "code",
   "metadata": {
    "id": "DIddJZwLhoWp",
    "ExecuteTime": {
     "end_time": "2025-02-13T21:09:27.580719Z",
     "start_time": "2025-02-13T21:09:27.577257Z"
    }
   },
   "source": [
    "# This is a comment\n",
    "# We now will enter the data into a pandas series\n",
    "\n",
    "Errors=pd.Series([1,5,1,3,2,2], index=[\"A\",\"B\",\"C\",\"D\",\"E\",\"F\"])"
   ],
   "outputs": [],
   "execution_count": 8
  },
  {
   "cell_type": "code",
   "metadata": {
    "id": "yVQLzGnlhoWp",
    "outputId": "b6373d9f-2f4d-4ee0-b329-b51e5308177b",
    "ExecuteTime": {
     "end_time": "2025-02-13T21:09:27.589939Z",
     "start_time": "2025-02-13T21:09:27.586422Z"
    }
   },
   "source": [
    "# Check content of series\n",
    "Errors"
   ],
   "outputs": [
    {
     "data": {
      "text/plain": [
       "A    1\n",
       "B    5\n",
       "C    1\n",
       "D    3\n",
       "E    2\n",
       "F    2\n",
       "dtype: int64"
      ]
     },
     "execution_count": 9,
     "metadata": {},
     "output_type": "execute_result"
    }
   ],
   "execution_count": 9
  },
  {
   "cell_type": "code",
   "metadata": {
    "colab": {
     "base_uri": "https://localhost:8080/"
    },
    "id": "RmjW4ARYBnfl",
    "outputId": "da0b0f25-cd63-4c03-97bb-34d5aa973a99",
    "ExecuteTime": {
     "end_time": "2025-02-13T21:09:27.636903Z",
     "start_time": "2025-02-13T21:09:27.633733Z"
    }
   },
   "source": [
    "# We can easily manipulate our series\n",
    "TwiceError= Errors*2\n",
    "TwiceError"
   ],
   "outputs": [
    {
     "data": {
      "text/plain": [
       "A     2\n",
       "B    10\n",
       "C     2\n",
       "D     6\n",
       "E     4\n",
       "F     4\n",
       "dtype: int64"
      ]
     },
     "execution_count": 10,
     "metadata": {},
     "output_type": "execute_result"
    }
   ],
   "execution_count": 10
  },
  {
   "cell_type": "code",
   "metadata": {
    "id": "jJrduZvihoWq",
    "outputId": "f6870a6b-6cac-45fe-b008-872fce714b4e",
    "ExecuteTime": {
     "end_time": "2025-02-13T21:09:27.677831Z",
     "start_time": "2025-02-13T21:09:27.674522Z"
    }
   },
   "source": [
    "# We can also get specific entries out\n",
    "# For instance entries larger than the median:\n",
    "Errors[Errors > Errors.median()]"
   ],
   "outputs": [
    {
     "data": {
      "text/plain": [
       "B    5\n",
       "D    3\n",
       "dtype: int64"
      ]
     },
     "execution_count": 11,
     "metadata": {},
     "output_type": "execute_result"
    }
   ],
   "execution_count": 11
  },
  {
   "cell_type": "markdown",
   "metadata": {
    "id": "PKAG03eGhoWq"
   },
   "source": [
    "### Try out 2:\n",
    "Make another series with recorded completion times for the six users\n",
    "\n",
    "|User  | Time|\n",
    "|-----|-----|\n",
    "| A| 1.6 |\n",
    "| B| 6.7 |\n",
    "| C| 1.7 |\n",
    "| D| 4.8 |\n",
    "| E| 1.9 |\n",
    "| F| 2.0 |"
   ]
  },
  {
   "cell_type": "code",
   "metadata": {
    "id": "c-SEOY2dhoWq",
    "ExecuteTime": {
     "end_time": "2025-02-13T21:09:27.740126Z",
     "start_time": "2025-02-13T21:09:27.737725Z"
    }
   },
   "source": [
    "# Modify and uncomment the following to complete the task\n",
    "\n",
    "CompTime=pd.Series([1.6,6.7,1.7,4.8,1.9,2.0  ], index=[\"A\",\"B\",\"C\",\"D\",\"E\",\"F\"])"
   ],
   "outputs": [],
   "execution_count": 12
  },
  {
   "cell_type": "markdown",
   "metadata": {
    "id": "odsDHwsjhoWq"
   },
   "source": [
    "<a id= 'DataFrame'> </a>"
   ]
  },
  {
   "cell_type": "markdown",
   "metadata": {
    "id": "zGJDVcO2hoWq"
   },
   "source": [
    "### 3.2 Data frames\n",
    "More convenient for statistical analysis of data, especially if there are different KINDS of data, is to combine series/arrays into data frames."
   ]
  },
  {
   "cell_type": "code",
   "metadata": {
    "id": "UZMCK3uzhoWq",
    "outputId": "af0cd3f9-51ea-438a-e680-b99f9a3ef3ee",
    "ExecuteTime": {
     "end_time": "2025-02-13T21:09:27.797535Z",
     "start_time": "2025-02-13T21:09:27.792369Z"
    }
   },
   "source": [
    "# We can now combine the two series\n",
    "frame = {'Errors': Errors, 'CompletionTime': CompTime }\n",
    "\n",
    "# When we have data of different kinds, it is more convenient\n",
    "# for statistical analysis is to have the variables in a DATA FRAME\n",
    "\n",
    "df = pd.DataFrame(frame)\n",
    "df"
   ],
   "outputs": [
    {
     "data": {
      "text/plain": [
       "   Errors  CompletionTime\n",
       "A       1             1.6\n",
       "B       5             6.7\n",
       "C       1             1.7\n",
       "D       3             4.8\n",
       "E       2             1.9\n",
       "F       2             2.0"
      ],
      "text/html": [
       "<div>\n",
       "<style scoped>\n",
       "    .dataframe tbody tr th:only-of-type {\n",
       "        vertical-align: middle;\n",
       "    }\n",
       "\n",
       "    .dataframe tbody tr th {\n",
       "        vertical-align: top;\n",
       "    }\n",
       "\n",
       "    .dataframe thead th {\n",
       "        text-align: right;\n",
       "    }\n",
       "</style>\n",
       "<table border=\"1\" class=\"dataframe\">\n",
       "  <thead>\n",
       "    <tr style=\"text-align: right;\">\n",
       "      <th></th>\n",
       "      <th>Errors</th>\n",
       "      <th>CompletionTime</th>\n",
       "    </tr>\n",
       "  </thead>\n",
       "  <tbody>\n",
       "    <tr>\n",
       "      <th>A</th>\n",
       "      <td>1</td>\n",
       "      <td>1.6</td>\n",
       "    </tr>\n",
       "    <tr>\n",
       "      <th>B</th>\n",
       "      <td>5</td>\n",
       "      <td>6.7</td>\n",
       "    </tr>\n",
       "    <tr>\n",
       "      <th>C</th>\n",
       "      <td>1</td>\n",
       "      <td>1.7</td>\n",
       "    </tr>\n",
       "    <tr>\n",
       "      <th>D</th>\n",
       "      <td>3</td>\n",
       "      <td>4.8</td>\n",
       "    </tr>\n",
       "    <tr>\n",
       "      <th>E</th>\n",
       "      <td>2</td>\n",
       "      <td>1.9</td>\n",
       "    </tr>\n",
       "    <tr>\n",
       "      <th>F</th>\n",
       "      <td>2</td>\n",
       "      <td>2.0</td>\n",
       "    </tr>\n",
       "  </tbody>\n",
       "</table>\n",
       "</div>"
      ]
     },
     "execution_count": 13,
     "metadata": {},
     "output_type": "execute_result"
    }
   ],
   "execution_count": 13
  },
  {
   "cell_type": "markdown",
   "metadata": {
    "id": "Qkwc7n9HhoWq"
   },
   "source": [
    "As you can see, a data frame can contain data of different kinds (integers, floats, text, etc.).\n",
    "But a data frame can also give us useful information about the data, such as the size or different simple statistics:"
   ]
  },
  {
   "cell_type": "code",
   "metadata": {
    "id": "fCoA0AxShoWq",
    "outputId": "d428d29b-cefd-4e75-d46c-2114a3f558d7",
    "ExecuteTime": {
     "end_time": "2025-02-13T21:09:27.858076Z",
     "start_time": "2025-02-13T21:09:27.855880Z"
    }
   },
   "source": [
    "# Find out how many rows and columns in dataframe\n",
    "df.shape"
   ],
   "outputs": [
    {
     "data": {
      "text/plain": [
       "(6, 2)"
      ]
     },
     "execution_count": 14,
     "metadata": {},
     "output_type": "execute_result"
    }
   ],
   "execution_count": 14
  },
  {
   "cell_type": "code",
   "metadata": {
    "id": "9-yQcTEQhoWq",
    "outputId": "3dfb64ac-ab44-4b59-e745-cbdcc5d5d36b",
    "ExecuteTime": {
     "end_time": "2025-02-13T21:09:27.966740Z",
     "start_time": "2025-02-13T21:09:27.959798Z"
    }
   },
   "source": [
    "#descriptive statistics\n",
    "df.describe()"
   ],
   "outputs": [
    {
     "data": {
      "text/plain": [
       "         Errors  CompletionTime\n",
       "count  6.000000        6.000000\n",
       "mean   2.333333        3.116667\n",
       "std    1.505545        2.131119\n",
       "min    1.000000        1.600000\n",
       "25%    1.250000        1.750000\n",
       "50%    2.000000        1.950000\n",
       "75%    2.750000        4.100000\n",
       "max    5.000000        6.700000"
      ],
      "text/html": [
       "<div>\n",
       "<style scoped>\n",
       "    .dataframe tbody tr th:only-of-type {\n",
       "        vertical-align: middle;\n",
       "    }\n",
       "\n",
       "    .dataframe tbody tr th {\n",
       "        vertical-align: top;\n",
       "    }\n",
       "\n",
       "    .dataframe thead th {\n",
       "        text-align: right;\n",
       "    }\n",
       "</style>\n",
       "<table border=\"1\" class=\"dataframe\">\n",
       "  <thead>\n",
       "    <tr style=\"text-align: right;\">\n",
       "      <th></th>\n",
       "      <th>Errors</th>\n",
       "      <th>CompletionTime</th>\n",
       "    </tr>\n",
       "  </thead>\n",
       "  <tbody>\n",
       "    <tr>\n",
       "      <th>count</th>\n",
       "      <td>6.000000</td>\n",
       "      <td>6.000000</td>\n",
       "    </tr>\n",
       "    <tr>\n",
       "      <th>mean</th>\n",
       "      <td>2.333333</td>\n",
       "      <td>3.116667</td>\n",
       "    </tr>\n",
       "    <tr>\n",
       "      <th>std</th>\n",
       "      <td>1.505545</td>\n",
       "      <td>2.131119</td>\n",
       "    </tr>\n",
       "    <tr>\n",
       "      <th>min</th>\n",
       "      <td>1.000000</td>\n",
       "      <td>1.600000</td>\n",
       "    </tr>\n",
       "    <tr>\n",
       "      <th>25%</th>\n",
       "      <td>1.250000</td>\n",
       "      <td>1.750000</td>\n",
       "    </tr>\n",
       "    <tr>\n",
       "      <th>50%</th>\n",
       "      <td>2.000000</td>\n",
       "      <td>1.950000</td>\n",
       "    </tr>\n",
       "    <tr>\n",
       "      <th>75%</th>\n",
       "      <td>2.750000</td>\n",
       "      <td>4.100000</td>\n",
       "    </tr>\n",
       "    <tr>\n",
       "      <th>max</th>\n",
       "      <td>5.000000</td>\n",
       "      <td>6.700000</td>\n",
       "    </tr>\n",
       "  </tbody>\n",
       "</table>\n",
       "</div>"
      ]
     },
     "execution_count": 15,
     "metadata": {},
     "output_type": "execute_result"
    }
   ],
   "execution_count": 15
  },
  {
   "cell_type": "markdown",
   "metadata": {
    "id": "mzV1OcCFhoWr"
   },
   "source": [
    "<a id= 'AddData'> </a>"
   ]
  },
  {
   "cell_type": "markdown",
   "metadata": {
    "id": "nvuOpx6BhoWr"
   },
   "source": [
    "### 3.2 Adding data to data frames\n",
    "We can also add more kinds of data to an existing data frame. For instance, we might be interested to record the type of mobile OS the user was running the application on.\n"
   ]
  },
  {
   "cell_type": "code",
   "metadata": {
    "id": "abCUptfVhoWr",
    "outputId": "6a6b8c50-752b-498d-80ca-6e589f3a2d6b",
    "ExecuteTime": {
     "end_time": "2025-02-13T21:09:28.090712Z",
     "start_time": "2025-02-13T21:09:28.085589Z"
    }
   },
   "source": [
    "Mobile = ['iOS', 'iOS', 'Android', 'Android', 'iOS', 'Android']\n",
    "\n",
    "# Using 'Mobile' as the column name\n",
    "# and equating it to the list\n",
    "df['Mobile'] = Mobile\n",
    "\n",
    "# Check the result\n",
    "df"
   ],
   "outputs": [
    {
     "data": {
      "text/plain": [
       "   Errors  CompletionTime   Mobile\n",
       "A       1             1.6      iOS\n",
       "B       5             6.7      iOS\n",
       "C       1             1.7  Android\n",
       "D       3             4.8  Android\n",
       "E       2             1.9      iOS\n",
       "F       2             2.0  Android"
      ],
      "text/html": [
       "<div>\n",
       "<style scoped>\n",
       "    .dataframe tbody tr th:only-of-type {\n",
       "        vertical-align: middle;\n",
       "    }\n",
       "\n",
       "    .dataframe tbody tr th {\n",
       "        vertical-align: top;\n",
       "    }\n",
       "\n",
       "    .dataframe thead th {\n",
       "        text-align: right;\n",
       "    }\n",
       "</style>\n",
       "<table border=\"1\" class=\"dataframe\">\n",
       "  <thead>\n",
       "    <tr style=\"text-align: right;\">\n",
       "      <th></th>\n",
       "      <th>Errors</th>\n",
       "      <th>CompletionTime</th>\n",
       "      <th>Mobile</th>\n",
       "    </tr>\n",
       "  </thead>\n",
       "  <tbody>\n",
       "    <tr>\n",
       "      <th>A</th>\n",
       "      <td>1</td>\n",
       "      <td>1.6</td>\n",
       "      <td>iOS</td>\n",
       "    </tr>\n",
       "    <tr>\n",
       "      <th>B</th>\n",
       "      <td>5</td>\n",
       "      <td>6.7</td>\n",
       "      <td>iOS</td>\n",
       "    </tr>\n",
       "    <tr>\n",
       "      <th>C</th>\n",
       "      <td>1</td>\n",
       "      <td>1.7</td>\n",
       "      <td>Android</td>\n",
       "    </tr>\n",
       "    <tr>\n",
       "      <th>D</th>\n",
       "      <td>3</td>\n",
       "      <td>4.8</td>\n",
       "      <td>Android</td>\n",
       "    </tr>\n",
       "    <tr>\n",
       "      <th>E</th>\n",
       "      <td>2</td>\n",
       "      <td>1.9</td>\n",
       "      <td>iOS</td>\n",
       "    </tr>\n",
       "    <tr>\n",
       "      <th>F</th>\n",
       "      <td>2</td>\n",
       "      <td>2.0</td>\n",
       "      <td>Android</td>\n",
       "    </tr>\n",
       "  </tbody>\n",
       "</table>\n",
       "</div>"
      ]
     },
     "execution_count": 16,
     "metadata": {},
     "output_type": "execute_result"
    }
   ],
   "execution_count": 16
  },
  {
   "cell_type": "markdown",
   "metadata": {
    "id": "SBFDUADzhoWr"
   },
   "source": [
    "### Try out 3:\n",
    "Add another variable of your choice to the data frame df"
   ]
  },
  {
   "cell_type": "code",
   "metadata": {
    "id": "WJfDqxgmhoWr",
    "ExecuteTime": {
     "end_time": "2025-02-13T21:09:28.349932Z",
     "start_time": "2025-02-13T21:09:28.348410Z"
    }
   },
   "source": [],
   "outputs": [],
   "execution_count": null
  },
  {
   "cell_type": "markdown",
   "metadata": {
    "id": "jq5oiXVghoWr"
   },
   "source": [
    "<a id= 'RandomSampling'> </a>"
   ]
  },
  {
   "cell_type": "markdown",
   "metadata": {
    "id": "XyiJt25ahoWs"
   },
   "source": [
    "## 4. Random Sampling\n",
    "\n",
    "If your user group is the population at large, we can take random samples for our data collection. The idea with random sampling is that everyone has *equal probability of being selected*. We will return to the concept of probability later, but for now we will start to look at how the size of a sample is related to the range of values for something such as heights."
   ]
  },
  {
   "cell_type": "code",
   "metadata": {
    "id": "kx7JRl-ThoWs",
    "ExecuteTime": {
     "end_time": "2025-02-13T21:09:29.008855Z",
     "start_time": "2025-02-13T21:09:28.493605Z"
    }
   },
   "source": [
    "# Now we will use a few more libraries, specifially numpy (mathematical functions)\n",
    "# and matplotlib (allowing us to plot nice figures)\n",
    "%matplotlib inline\n",
    "import numpy as np\n",
    "import matplotlib.pyplot as plt"
   ],
   "outputs": [],
   "execution_count": 17
  },
  {
   "cell_type": "markdown",
   "metadata": {
    "id": "0-3Ja9Mhuafm"
   },
   "source": [
    "### Try out 4:\n",
    "Draw a sample of size N and plot the heights. Change the N to different values and repeat several times. Pay attention to how the spread of values differ between different samples and with different sample size."
   ]
  },
  {
   "cell_type": "code",
   "metadata": {
    "id": "PcNqpgovhoWs",
    "outputId": "4cac0392-b545-4d22-dc14-fca43b27c9d2",
    "ExecuteTime": {
     "end_time": "2025-02-13T21:09:29.071672Z",
     "start_time": "2025-02-13T21:09:29.014933Z"
    }
   },
   "source": [
    "# Draw a sample of size N and plot the heights.\n",
    "# Repeat several times with different N.\n",
    "N=23\n",
    "\n",
    "# Define X-axis range according to N.\n",
    "x=np.arange(1,N+1)\n",
    "\n",
    "# We will now draw a sample of measured heights from a mock-up population\n",
    "# Parameters are (MEAN, STANDARD DEVIATION, N)\n",
    "nscores=np.random.normal(178.4,7.59,N)\n",
    "\n",
    "# Plot sample in two dimensions\n",
    "plt.scatter(x,nscores)\n",
    "plt.xlabel('individual')\n",
    "plt.ylabel('height (cm)')\n",
    "plt.show()"
   ],
   "outputs": [
    {
     "data": {
      "text/plain": [
       "<Figure size 432x288 with 1 Axes>"
      ],
      "image/png": "[encoded data removed]"
     },
     "metadata": {
      "needs_background": "light"
     },
     "output_type": "display_data"
    }
   ],
   "execution_count": 18
  },
  {
   "cell_type": "markdown",
   "metadata": {
    "id": "Vy2WUdbFuafo"
   },
   "source": [
    "In real studies, random sampling is typically much easier said than done. Therefore, HOW you recruit test participants is something that should be carefully considered so that you do not end up with bias and unreliable data."
   ]
  },
  {
   "cell_type": "markdown",
   "metadata": {
    "id": "05-z1c2YhoWt"
   },
   "source": [
    "### Assignment:\n",
    "\n",
    "For this first assignment you will collect data from a sample of 5 participants\n",
    "\n",
    "|User  | Age|Height| MobileOS|\n",
    "|-----|-----|-----|-----|\n",
    "| A|  |   |  |\n",
    "| B|  |  |  |\n",
    "| C|  |  |  |\n",
    "| D|  |  |  |\n",
    "| E|  |  |  |\n",
    "\n",
    "Collect and complete the code below to enter your data, then convert into a data frame.\n",
    "From the data frame you then get 1) the size of the data frame, and 2) description of data frame\n",
    "\n",
    "ANSWER: What type of sampling/recruitment method did you use? What could be potential bias in your sample?\n",
    "\n"
   ]
  },
  {
   "cell_type": "code",
   "metadata": {
    "id": "aLutIw_9hoWt",
    "ExecuteTime": {
     "end_time": "2025-02-13T21:15:55.919047Z",
     "start_time": "2025-02-13T21:15:55.909202Z"
    }
   },
   "source": [
    "# Collect and complete the code to enter your data\n",
    "# Then convert into data frame and get 1) the size of the data frame, and 2) description of data frame\n",
    "\n",
    "data = {'Age': [33, 38, 29, 31, 33],\n",
    "       'Height': [197, 185, 178, 182, 174],\n",
    "       'MobileOS': ['iOS', 'iOS', 'iOS', 'iOS', 'iOS']}\n",
    "\n",
    "# Convert to DataFrame\n",
    "df = pd.DataFrame(data)\n",
    "\n",
    "# Get the size of the DataFrame\n",
    "size = df.shape\n",
    "\n",
    "# Get the description of the DataFrame\n",
    "description = df.describe()\n",
    "\n",
    "print(size)\n",
    "print(description)\n",
    "\n",
    "df"
   ],
   "outputs": [
    {
     "name": "stdout",
     "output_type": "stream",
     "text": [
      "(5, 3)\n",
      "            Age      Height\n",
      "count   5.00000    5.000000\n",
      "mean   32.80000  183.200000\n",
      "std     3.34664    8.757854\n",
      "min    29.00000  174.000000\n",
      "25%    31.00000  178.000000\n",
      "50%    33.00000  182.000000\n",
      "75%    33.00000  185.000000\n",
      "max    38.00000  197.000000\n"
     ]
    },
    {
     "data": {
      "text/plain": [
       "   Age  Height MobileOS\n",
       "0   33     197      iOS\n",
       "1   38     185      iOS\n",
       "2   29     178      iOS\n",
       "3   31     182      iOS\n",
       "4   33     174      iOS"
      ],
      "text/html": [
       "<div>\n",
       "<style scoped>\n",
       "    .dataframe tbody tr th:only-of-type {\n",
       "        vertical-align: middle;\n",
       "    }\n",
       "\n",
       "    .dataframe tbody tr th {\n",
       "        vertical-align: top;\n",
       "    }\n",
       "\n",
       "    .dataframe thead th {\n",
       "        text-align: right;\n",
       "    }\n",
       "</style>\n",
       "<table border=\"1\" class=\"dataframe\">\n",
       "  <thead>\n",
       "    <tr style=\"text-align: right;\">\n",
       "      <th></th>\n",
       "      <th>Age</th>\n",
       "      <th>Height</th>\n",
       "      <th>MobileOS</th>\n",
       "    </tr>\n",
       "  </thead>\n",
       "  <tbody>\n",
       "    <tr>\n",
       "      <th>0</th>\n",
       "      <td>33</td>\n",
       "      <td>197</td>\n",
       "      <td>iOS</td>\n",
       "    </tr>\n",
       "    <tr>\n",
       "      <th>1</th>\n",
       "      <td>38</td>\n",
       "      <td>185</td>\n",
       "      <td>iOS</td>\n",
       "    </tr>\n",
       "    <tr>\n",
       "      <th>2</th>\n",
       "      <td>29</td>\n",
       "      <td>178</td>\n",
       "      <td>iOS</td>\n",
       "    </tr>\n",
       "    <tr>\n",
       "      <th>3</th>\n",
       "      <td>31</td>\n",
       "      <td>182</td>\n",
       "      <td>iOS</td>\n",
       "    </tr>\n",
       "    <tr>\n",
       "      <th>4</th>\n",
       "      <td>33</td>\n",
       "      <td>174</td>\n",
       "      <td>iOS</td>\n",
       "    </tr>\n",
       "  </tbody>\n",
       "</table>\n",
       "</div>"
      ]
     },
     "execution_count": 28,
     "metadata": {},
     "output_type": "execute_result"
    }
   ],
   "execution_count": 28
  },
  {
   "metadata": {
    "ExecuteTime": {
     "end_time": "2025-02-13T21:09:29.161136Z",
     "start_time": "2025-02-13T21:09:29.159776Z"
    }
   },
   "cell_type": "code",
   "source": "",
   "outputs": [],
   "execution_count": null
  }
 ],
 "metadata": {
  "colab": {
   "name": "UX1_When-and-What.ipynb",
   "provenance": []
  },
  "kernelspec": {
   "display_name": "Python 3",
   "language": "python",
   "name": "python3"
  },
  "language_info": {
   "codemirror_mode": {
    "name": "ipython",
    "version": 3
   },
   "file_extension": ".py",
   "mimetype": "text/x-python",
   "name": "python",
   "nbconvert_exporter": "python",
   "pygments_lexer": "ipython3",
   "version": "3.7.3"
  }
 },
 "nbformat": 4,
 "nbformat_minor": 0
}
