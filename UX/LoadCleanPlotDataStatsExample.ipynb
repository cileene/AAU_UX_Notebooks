{
 "cells": [
  {
   "cell_type": "markdown",
   "metadata": {},
   "source": [
    "### Loading and plotting data \n",
    "\n",
    "Author:\n",
    "- |\n",
    "    Sofia Dahl, sof@create.aau.dk\\\n",
    "    Dept. Architecture, Design and Media Technology, Aalborg University Copenhagen\n",
    "---\n",
    "\n",
    "After working your way through this notebook you should be able to...\n",
    "-   Load and plot data from excel file\n",
    "-   Mask extreme values as NaN and drop them\n"
   ]
  },
  {
   "cell_type": "code",
   "metadata": {
    "ExecuteTime": {
     "end_time": "2025-03-18T16:03:33.064130Z",
     "start_time": "2025-03-18T16:03:33.061666Z"
    }
   },
   "source": [
    "#Loading libraries we will use in this notebook\n",
    "%matplotlib inline\n",
    "import numpy as np\n",
    "import pandas as pd\n",
    "import matplotlib.pyplot as plt"
   ],
   "outputs": [],
   "execution_count": 67
  },
  {
   "cell_type": "code",
   "metadata": {
    "ExecuteTime": {
     "end_time": "2025-03-18T16:03:33.079940Z",
     "start_time": "2025-03-18T16:03:33.078104Z"
    }
   },
   "source": [
    "#If using  colab, this code needs executing \n",
    "#from google.colab import files\n",
    "\n",
    "#uploaded = files.upload()\n",
    "#After which you can use the \"browse\"-button to locate and load the file."
   ],
   "outputs": [],
   "execution_count": 68
  },
  {
   "cell_type": "code",
   "metadata": {
    "ExecuteTime": {
     "end_time": "2025-03-18T16:03:33.090001Z",
     "start_time": "2025-03-18T16:03:33.088469Z"
    }
   },
   "source": [
    "# We will use pandas read_excel to read the data\n",
    "# Read more about the function by executing\n",
    "#help(pd.read_excel)"
   ],
   "outputs": [],
   "execution_count": 69
  },
  {
   "cell_type": "code",
   "metadata": {
    "ExecuteTime": {
     "end_time": "2025-03-18T16:03:33.113939Z",
     "start_time": "2025-03-18T16:03:33.106012Z"
    }
   },
   "source": [
    "#The first column (col 0) does not contain anything useful\n",
    "#Since we already know this we can skip this and just use columns 1-3\n",
    "data = pd.read_excel(\"data/UX2-datacollection.xlsx\", usecols=[1,2,3])"
   ],
   "outputs": [],
   "execution_count": 70
  },
  {
   "cell_type": "code",
   "metadata": {
    "ExecuteTime": {
     "end_time": "2025-03-18T16:03:33.123200Z",
     "start_time": "2025-03-18T16:03:33.119534Z"
    }
   },
   "source": [
    "#We can print the first five lines in data\n",
    "data.head(5)"
   ],
   "outputs": [
    {
     "data": {
      "text/plain": [
       "    Age  Height MobileOS\n",
       "0  23.0   186.0      iOS\n",
       "1  21.0   207.0      IOS\n",
       "2  20.0   182.0  Android\n",
       "3  21.0   165.0      IOS\n",
       "4  22.0   179.0  Android"
      ],
      "text/html": [
       "<div>\n",
       "<style scoped>\n",
       "    .dataframe tbody tr th:only-of-type {\n",
       "        vertical-align: middle;\n",
       "    }\n",
       "\n",
       "    .dataframe tbody tr th {\n",
       "        vertical-align: top;\n",
       "    }\n",
       "\n",
       "    .dataframe thead th {\n",
       "        text-align: right;\n",
       "    }\n",
       "</style>\n",
       "<table border=\"1\" class=\"dataframe\">\n",
       "  <thead>\n",
       "    <tr style=\"text-align: right;\">\n",
       "      <th></th>\n",
       "      <th>Age</th>\n",
       "      <th>Height</th>\n",
       "      <th>MobileOS</th>\n",
       "    </tr>\n",
       "  </thead>\n",
       "  <tbody>\n",
       "    <tr>\n",
       "      <th>0</th>\n",
       "      <td>23.0</td>\n",
       "      <td>186.0</td>\n",
       "      <td>iOS</td>\n",
       "    </tr>\n",
       "    <tr>\n",
       "      <th>1</th>\n",
       "      <td>21.0</td>\n",
       "      <td>207.0</td>\n",
       "      <td>IOS</td>\n",
       "    </tr>\n",
       "    <tr>\n",
       "      <th>2</th>\n",
       "      <td>20.0</td>\n",
       "      <td>182.0</td>\n",
       "      <td>Android</td>\n",
       "    </tr>\n",
       "    <tr>\n",
       "      <th>3</th>\n",
       "      <td>21.0</td>\n",
       "      <td>165.0</td>\n",
       "      <td>IOS</td>\n",
       "    </tr>\n",
       "    <tr>\n",
       "      <th>4</th>\n",
       "      <td>22.0</td>\n",
       "      <td>179.0</td>\n",
       "      <td>Android</td>\n",
       "    </tr>\n",
       "  </tbody>\n",
       "</table>\n",
       "</div>"
      ]
     },
     "execution_count": 71,
     "metadata": {},
     "output_type": "execute_result"
    }
   ],
   "execution_count": 71
  },
  {
   "cell_type": "code",
   "metadata": {
    "ExecuteTime": {
     "end_time": "2025-03-18T16:03:33.155399Z",
     "start_time": "2025-03-18T16:03:33.153138Z"
    }
   },
   "source": [
    "#And check how many rows and columns in all\n",
    "data.shape"
   ],
   "outputs": [
    {
     "data": {
      "text/plain": [
       "(56, 3)"
      ]
     },
     "execution_count": 72,
     "metadata": {},
     "output_type": "execute_result"
    }
   ],
   "execution_count": 72
  },
  {
   "cell_type": "code",
   "metadata": {
    "ExecuteTime": {
     "end_time": "2025-03-18T16:03:33.195231Z",
     "start_time": "2025-03-18T16:03:33.193299Z"
    }
   },
   "source": [
    "#We make the data into a data frame\n",
    "\n",
    "df=pd.DataFrame(data)\n",
    "\n",
    "#It is also possible to drop columns or rows after this is done, check\n",
    "#DataFrame.drop"
   ],
   "outputs": [],
   "execution_count": 73
  },
  {
   "cell_type": "code",
   "metadata": {
    "ExecuteTime": {
     "end_time": "2025-03-18T16:03:33.234498Z",
     "start_time": "2025-03-18T16:03:33.229410Z"
    }
   },
   "source": [
    "#The good thing about dataFrame is the quick description of data \n",
    "df.describe()"
   ],
   "outputs": [
    {
     "data": {
      "text/plain": [
       "              Age      Height\n",
       "count   56.000000   56.000000\n",
       "mean    39.000000  165.089286\n",
       "std     46.236153   47.237611\n",
       "min     18.000000   19.000000\n",
       "25%     21.000000  167.000000\n",
       "50%     22.500000  178.500000\n",
       "75%     27.000000  184.500000\n",
       "max    188.000000  207.000000"
      ],
      "text/html": [
       "<div>\n",
       "<style scoped>\n",
       "    .dataframe tbody tr th:only-of-type {\n",
       "        vertical-align: middle;\n",
       "    }\n",
       "\n",
       "    .dataframe tbody tr th {\n",
       "        vertical-align: top;\n",
       "    }\n",
       "\n",
       "    .dataframe thead th {\n",
       "        text-align: right;\n",
       "    }\n",
       "</style>\n",
       "<table border=\"1\" class=\"dataframe\">\n",
       "  <thead>\n",
       "    <tr style=\"text-align: right;\">\n",
       "      <th></th>\n",
       "      <th>Age</th>\n",
       "      <th>Height</th>\n",
       "    </tr>\n",
       "  </thead>\n",
       "  <tbody>\n",
       "    <tr>\n",
       "      <th>count</th>\n",
       "      <td>56.000000</td>\n",
       "      <td>56.000000</td>\n",
       "    </tr>\n",
       "    <tr>\n",
       "      <th>mean</th>\n",
       "      <td>39.000000</td>\n",
       "      <td>165.089286</td>\n",
       "    </tr>\n",
       "    <tr>\n",
       "      <th>std</th>\n",
       "      <td>46.236153</td>\n",
       "      <td>47.237611</td>\n",
       "    </tr>\n",
       "    <tr>\n",
       "      <th>min</th>\n",
       "      <td>18.000000</td>\n",
       "      <td>19.000000</td>\n",
       "    </tr>\n",
       "    <tr>\n",
       "      <th>25%</th>\n",
       "      <td>21.000000</td>\n",
       "      <td>167.000000</td>\n",
       "    </tr>\n",
       "    <tr>\n",
       "      <th>50%</th>\n",
       "      <td>22.500000</td>\n",
       "      <td>178.500000</td>\n",
       "    </tr>\n",
       "    <tr>\n",
       "      <th>75%</th>\n",
       "      <td>27.000000</td>\n",
       "      <td>184.500000</td>\n",
       "    </tr>\n",
       "    <tr>\n",
       "      <th>max</th>\n",
       "      <td>188.000000</td>\n",
       "      <td>207.000000</td>\n",
       "    </tr>\n",
       "  </tbody>\n",
       "</table>\n",
       "</div>"
      ]
     },
     "execution_count": 74,
     "metadata": {},
     "output_type": "execute_result"
    }
   ],
   "execution_count": 74
  },
  {
   "cell_type": "code",
   "metadata": {
    "ExecuteTime": {
     "end_time": "2025-03-18T16:03:33.285664Z",
     "start_time": "2025-03-18T16:03:33.279410Z"
    }
   },
   "source": [
    "#But what about the categorical data? We can specify that this also should be described\n",
    "df.describe(include='all')\n",
    "#but note, that this is done in a different way"
   ],
   "outputs": [
    {
     "data": {
      "text/plain": [
       "               Age      Height MobileOS\n",
       "count    56.000000   56.000000       56\n",
       "unique         NaN         NaN        4\n",
       "top            NaN         NaN      iOS\n",
       "freq           NaN         NaN       23\n",
       "mean     39.000000  165.089286      NaN\n",
       "std      46.236153   47.237611      NaN\n",
       "min      18.000000   19.000000      NaN\n",
       "25%      21.000000  167.000000      NaN\n",
       "50%      22.500000  178.500000      NaN\n",
       "75%      27.000000  184.500000      NaN\n",
       "max     188.000000  207.000000      NaN"
      ],
      "text/html": [
       "<div>\n",
       "<style scoped>\n",
       "    .dataframe tbody tr th:only-of-type {\n",
       "        vertical-align: middle;\n",
       "    }\n",
       "\n",
       "    .dataframe tbody tr th {\n",
       "        vertical-align: top;\n",
       "    }\n",
       "\n",
       "    .dataframe thead th {\n",
       "        text-align: right;\n",
       "    }\n",
       "</style>\n",
       "<table border=\"1\" class=\"dataframe\">\n",
       "  <thead>\n",
       "    <tr style=\"text-align: right;\">\n",
       "      <th></th>\n",
       "      <th>Age</th>\n",
       "      <th>Height</th>\n",
       "      <th>MobileOS</th>\n",
       "    </tr>\n",
       "  </thead>\n",
       "  <tbody>\n",
       "    <tr>\n",
       "      <th>count</th>\n",
       "      <td>56.000000</td>\n",
       "      <td>56.000000</td>\n",
       "      <td>56</td>\n",
       "    </tr>\n",
       "    <tr>\n",
       "      <th>unique</th>\n",
       "      <td>NaN</td>\n",
       "      <td>NaN</td>\n",
       "      <td>4</td>\n",
       "    </tr>\n",
       "    <tr>\n",
       "      <th>top</th>\n",
       "      <td>NaN</td>\n",
       "      <td>NaN</td>\n",
       "      <td>iOS</td>\n",
       "    </tr>\n",
       "    <tr>\n",
       "      <th>freq</th>\n",
       "      <td>NaN</td>\n",
       "      <td>NaN</td>\n",
       "      <td>23</td>\n",
       "    </tr>\n",
       "    <tr>\n",
       "      <th>mean</th>\n",
       "      <td>39.000000</td>\n",
       "      <td>165.089286</td>\n",
       "      <td>NaN</td>\n",
       "    </tr>\n",
       "    <tr>\n",
       "      <th>std</th>\n",
       "      <td>46.236153</td>\n",
       "      <td>47.237611</td>\n",
       "      <td>NaN</td>\n",
       "    </tr>\n",
       "    <tr>\n",
       "      <th>min</th>\n",
       "      <td>18.000000</td>\n",
       "      <td>19.000000</td>\n",
       "      <td>NaN</td>\n",
       "    </tr>\n",
       "    <tr>\n",
       "      <th>25%</th>\n",
       "      <td>21.000000</td>\n",
       "      <td>167.000000</td>\n",
       "      <td>NaN</td>\n",
       "    </tr>\n",
       "    <tr>\n",
       "      <th>50%</th>\n",
       "      <td>22.500000</td>\n",
       "      <td>178.500000</td>\n",
       "      <td>NaN</td>\n",
       "    </tr>\n",
       "    <tr>\n",
       "      <th>75%</th>\n",
       "      <td>27.000000</td>\n",
       "      <td>184.500000</td>\n",
       "      <td>NaN</td>\n",
       "    </tr>\n",
       "    <tr>\n",
       "      <th>max</th>\n",
       "      <td>188.000000</td>\n",
       "      <td>207.000000</td>\n",
       "      <td>NaN</td>\n",
       "    </tr>\n",
       "  </tbody>\n",
       "</table>\n",
       "</div>"
      ]
     },
     "execution_count": 75,
     "metadata": {},
     "output_type": "execute_result"
    }
   ],
   "execution_count": 75
  },
  {
   "cell_type": "markdown",
   "metadata": {},
   "source": [
    "Using data frames we can specify a variable and use a selection based on values in that particular variable."
   ]
  },
  {
   "cell_type": "code",
   "metadata": {
    "ExecuteTime": {
     "end_time": "2025-03-18T16:03:33.344229Z",
     "start_time": "2025-03-18T16:03:33.341023Z"
    }
   },
   "source": [
    "# We can use indexing to find the instances that are too large\n",
    "# We then  make another data frame with only these values\n",
    "\n",
    "temp=df.loc[lambda df: df['Age'] < 60, :]\n",
    "\n",
    "# check that the new data frame is shorter\n",
    "temp.shape"
   ],
   "outputs": [
    {
     "data": {
      "text/plain": [
       "(50, 3)"
      ]
     },
     "execution_count": 76,
     "metadata": {},
     "output_type": "execute_result"
    }
   ],
   "execution_count": 76
  },
  {
   "cell_type": "code",
   "metadata": {
    "ExecuteTime": {
     "end_time": "2025-03-18T16:03:33.408259Z",
     "start_time": "2025-03-18T16:03:33.404065Z"
    }
   },
   "source": [
    "#The real power in data frames comes, when we can use grouping functions \n",
    "#to get analysis for different groups. Here is one example:\n",
    "\n",
    "df.groupby(\"MobileOS\").mean()"
   ],
   "outputs": [
    {
     "data": {
      "text/plain": [
       "                Age      Height\n",
       "MobileOS                       \n",
       "Andriod   29.000000  186.500000\n",
       "Android   48.090909  158.363636\n",
       "IOS       57.666667  144.222222\n",
       "iOS       23.869565  177.826087"
      ],
      "text/html": [
       "<div>\n",
       "<style scoped>\n",
       "    .dataframe tbody tr th:only-of-type {\n",
       "        vertical-align: middle;\n",
       "    }\n",
       "\n",
       "    .dataframe tbody tr th {\n",
       "        vertical-align: top;\n",
       "    }\n",
       "\n",
       "    .dataframe thead th {\n",
       "        text-align: right;\n",
       "    }\n",
       "</style>\n",
       "<table border=\"1\" class=\"dataframe\">\n",
       "  <thead>\n",
       "    <tr style=\"text-align: right;\">\n",
       "      <th></th>\n",
       "      <th>Age</th>\n",
       "      <th>Height</th>\n",
       "    </tr>\n",
       "    <tr>\n",
       "      <th>MobileOS</th>\n",
       "      <th></th>\n",
       "      <th></th>\n",
       "    </tr>\n",
       "  </thead>\n",
       "  <tbody>\n",
       "    <tr>\n",
       "      <th>Andriod</th>\n",
       "      <td>29.000000</td>\n",
       "      <td>186.500000</td>\n",
       "    </tr>\n",
       "    <tr>\n",
       "      <th>Android</th>\n",
       "      <td>48.090909</td>\n",
       "      <td>158.363636</td>\n",
       "    </tr>\n",
       "    <tr>\n",
       "      <th>IOS</th>\n",
       "      <td>57.666667</td>\n",
       "      <td>144.222222</td>\n",
       "    </tr>\n",
       "    <tr>\n",
       "      <th>iOS</th>\n",
       "      <td>23.869565</td>\n",
       "      <td>177.826087</td>\n",
       "    </tr>\n",
       "  </tbody>\n",
       "</table>\n",
       "</div>"
      ]
     },
     "execution_count": 77,
     "metadata": {},
     "output_type": "execute_result"
    }
   ],
   "execution_count": 77
  },
  {
   "cell_type": "markdown",
   "metadata": {},
   "source": [
    "## Plotting"
   ]
  },
  {
   "cell_type": "code",
   "metadata": {
    "ExecuteTime": {
     "end_time": "2025-03-18T16:03:33.519644Z",
     "start_time": "2025-03-18T16:03:33.459976Z"
    }
   },
   "source": [
    "#We can plot in pandas, referring to the variables in the dataframe\n",
    "df.plot.scatter(x='Age',y='Height',c='DarkBlue')"
   ],
   "outputs": [
    {
     "data": {
      "text/plain": [
       "<AxesSubplot:xlabel='Age', ylabel='Height'>"
      ]
     },
     "execution_count": 78,
     "metadata": {},
     "output_type": "execute_result"
    },
    {
     "data": {
      "text/plain": [
       "<Figure size 432x288 with 1 Axes>"
      ],
      "image/png": "[encoded data removed]"
     },
     "metadata": {
      "needs_background": "light"
     },
     "output_type": "display_data"
    }
   ],
   "execution_count": 78
  },
  {
   "cell_type": "code",
   "metadata": {
    "ExecuteTime": {
     "end_time": "2025-03-18T16:03:33.593448Z",
     "start_time": "2025-03-18T16:03:33.541241Z"
    }
   },
   "source": [
    "#But matplotlib is more used in general. Then we need to use the full dataframe name\n",
    "plt.plot(df.Age,df.Height, 'r*')\n",
    "plt.show()"
   ],
   "outputs": [
    {
     "data": {
      "text/plain": [
       "<Figure size 432x288 with 1 Axes>"
      ],
      "image/png": "[encoded data removed]"
     },
     "metadata": {
      "needs_background": "light"
     },
     "output_type": "display_data"
    }
   ],
   "execution_count": 79
  },
  {
   "cell_type": "markdown",
   "metadata": {},
   "source": [
    "We can already see we have some clear outliers. That is, data points that are way outside the range from the other values."
   ]
  },
  {
   "cell_type": "markdown",
   "metadata": {},
   "source": [
    "Another way to visualize data is a *box plot* which shows the distribution of individual data points and how many that fall within the different *quartiles* of the data. In other words, if we are to sort our data so that we have buckets containing 25% of the total data points, the box plot will show the range of the data in three of these buckets (Q1-Q3) called interquartile range. That is where 25-75% of data points are located. "
   ]
  },
  {
   "cell_type": "code",
   "metadata": {
    "ExecuteTime": {
     "end_time": "2025-03-18T16:03:33.718708Z",
     "start_time": "2025-03-18T16:03:33.616117Z"
    }
   },
   "source": [
    "plt.boxplot([df.Age,df.Height])\n",
    "\n",
    "plt.show"
   ],
   "outputs": [
    {
     "data": {
      "text/plain": [
       "<function matplotlib.pyplot.show(close=None, block=None)>"
      ]
     },
     "execution_count": 80,
     "metadata": {},
     "output_type": "execute_result"
    },
    {
     "data": {
      "text/plain": [
       "<Figure size 432x288 with 1 Axes>"
      ],
      "image/png": "[encoded data removed]"
     },
     "metadata": {
      "needs_background": "light"
     },
     "output_type": "display_data"
    }
   ],
   "execution_count": 80
  },
  {
   "cell_type": "markdown",
   "metadata": {},
   "source": [
    "There are different functions and packages to do plots like this. Depending on the tool, the meaning of the box, the orange \"middle\" point etc can differ slightly. For this function, we can read that the median of data points (dividing 50% of data points) is shown as the orange middle line.\n",
    "The \"error bars\" or \"whiskers\" that extend beyond the box itself indicate a further range of data (typically 1.5 times the interquartile range Q3-Q1). The error bar stretch until the last data point within this range. Any data points outside this are so far separated from the main bulk of data points that they typically are considered to be outliers.\n",
    "\n",
    "We can take this into account when considering whether some data points should ge excluded from the data set.\n",
    "In our case, it is possible (although less likely given that we know the group in question) that a student is 50 or even 60 years old. But hardly more than 150. Likewise, it is unheard of that persons at this age are less than 25 cm tall. Let us therefore proceed to remove some of the obvious errors.\n"
   ]
  },
  {
   "cell_type": "markdown",
   "metadata": {},
   "source": [
    "## Masking and dropping data"
   ]
  },
  {
   "cell_type": "code",
   "metadata": {
    "ExecuteTime": {
     "end_time": "2025-03-18T16:03:33.737996Z",
     "start_time": "2025-03-18T16:03:33.732293Z"
    }
   },
   "source": [
    "# RatherAnother way to remove extreme data point is to mask these values\n",
    "\n",
    "# We can create a copy of the data frame, excluding too low heights\n",
    "tmp=df.mask(df.Height < 50)\n",
    "\n",
    "# And another excluding extreme ages\n",
    "tmp2 = tmp.mask(tmp.Age > 60)\n",
    "\n",
    "# Uncomment to check the whole data frame\n",
    "# tmp2\n"
   ],
   "outputs": [],
   "execution_count": 81
  },
  {
   "cell_type": "markdown",
   "metadata": {},
   "source": [
    "These extreme values have now been replaced by NaN, which means Not-a-Number. \n",
    "\n",
    "NaN can appear also in our original data, for example when participants have omitted to enter data for a particular question. \n",
    "\n",
    "Therefore it is good that we conveniently drop the NaN."
   ]
  },
  {
   "cell_type": "code",
   "metadata": {
    "ExecuteTime": {
     "end_time": "2025-03-18T16:03:33.765622Z",
     "start_time": "2025-03-18T16:03:33.760556Z"
    }
   },
   "source": [
    "dfclean= tmp2.dropna(how=\"any\") \n",
    "\n",
    "#Chec size of data frame\n",
    "dfclean.shape"
   ],
   "outputs": [
    {
     "data": {
      "text/plain": [
       "(50, 3)"
      ]
     },
     "execution_count": 82,
     "metadata": {},
     "output_type": "execute_result"
    }
   ],
   "execution_count": 82
  },
  {
   "cell_type": "code",
   "metadata": {
    "ExecuteTime": {
     "end_time": "2025-03-18T16:03:33.779773Z",
     "start_time": "2025-03-18T16:03:33.774060Z"
    }
   },
   "source": [
    "# We can now compare the descriptive statistics \n",
    "dfclean.describe()"
   ],
   "outputs": [
    {
     "data": {
      "text/plain": [
       "             Age      Height\n",
       "count  50.000000   50.000000\n",
       "mean   24.140000  179.500000\n",
       "std     6.657848   11.205411\n",
       "min    18.000000  162.000000\n",
       "25%    21.000000  170.250000\n",
       "50%    22.000000  179.500000\n",
       "75%    24.000000  186.000000\n",
       "max    54.000000  207.000000"
      ],
      "text/html": [
       "<div>\n",
       "<style scoped>\n",
       "    .dataframe tbody tr th:only-of-type {\n",
       "        vertical-align: middle;\n",
       "    }\n",
       "\n",
       "    .dataframe tbody tr th {\n",
       "        vertical-align: top;\n",
       "    }\n",
       "\n",
       "    .dataframe thead th {\n",
       "        text-align: right;\n",
       "    }\n",
       "</style>\n",
       "<table border=\"1\" class=\"dataframe\">\n",
       "  <thead>\n",
       "    <tr style=\"text-align: right;\">\n",
       "      <th></th>\n",
       "      <th>Age</th>\n",
       "      <th>Height</th>\n",
       "    </tr>\n",
       "  </thead>\n",
       "  <tbody>\n",
       "    <tr>\n",
       "      <th>count</th>\n",
       "      <td>50.000000</td>\n",
       "      <td>50.000000</td>\n",
       "    </tr>\n",
       "    <tr>\n",
       "      <th>mean</th>\n",
       "      <td>24.140000</td>\n",
       "      <td>179.500000</td>\n",
       "    </tr>\n",
       "    <tr>\n",
       "      <th>std</th>\n",
       "      <td>6.657848</td>\n",
       "      <td>11.205411</td>\n",
       "    </tr>\n",
       "    <tr>\n",
       "      <th>min</th>\n",
       "      <td>18.000000</td>\n",
       "      <td>162.000000</td>\n",
       "    </tr>\n",
       "    <tr>\n",
       "      <th>25%</th>\n",
       "      <td>21.000000</td>\n",
       "      <td>170.250000</td>\n",
       "    </tr>\n",
       "    <tr>\n",
       "      <th>50%</th>\n",
       "      <td>22.000000</td>\n",
       "      <td>179.500000</td>\n",
       "    </tr>\n",
       "    <tr>\n",
       "      <th>75%</th>\n",
       "      <td>24.000000</td>\n",
       "      <td>186.000000</td>\n",
       "    </tr>\n",
       "    <tr>\n",
       "      <th>max</th>\n",
       "      <td>54.000000</td>\n",
       "      <td>207.000000</td>\n",
       "    </tr>\n",
       "  </tbody>\n",
       "</table>\n",
       "</div>"
      ]
     },
     "execution_count": 83,
     "metadata": {},
     "output_type": "execute_result"
    }
   ],
   "execution_count": 83
  },
  {
   "cell_type": "markdown",
   "metadata": {},
   "source": [
    "## Adding variables to data frame"
   ]
  },
  {
   "cell_type": "code",
   "metadata": {
    "ExecuteTime": {
     "end_time": "2025-03-18T16:03:33.818396Z",
     "start_time": "2025-03-18T16:03:33.811087Z"
    }
   },
   "source": [
    "# First we geneerate some fake data on task completion\n",
    "\n",
    "completion=pd.Series(data=np.random.randint(0,2,len(dfclean)))\n",
    "\n",
    "\n",
    "dfclean['Success'] = completion\n",
    "\n",
    "# Check that the new variable has been added\n",
    "dfclean.columns\n"
   ],
   "outputs": [
    {
     "name": "stderr",
     "output_type": "stream",
     "text": [
      "/var/folders/sy/g3g_wgpd58g32hfw1frq8t640000gn/T/ipykernel_43908/1250079294.py:6: SettingWithCopyWarning: \n",
      "A value is trying to be set on a copy of a slice from a DataFrame.\n",
      "Try using .loc[row_indexer,col_indexer] = value instead\n",
      "\n",
      "See the caveats in the documentation: https://pandas.pydata.org/pandas-docs/stable/user_guide/indexing.html#returning-a-view-versus-a-copy\n",
      "  dfclean['Success'] = completion\n"
     ]
    },
    {
     "data": {
      "text/plain": [
       "Index(['Age', 'Height', 'MobileOS', 'Success'], dtype='object')"
      ]
     },
     "execution_count": 84,
     "metadata": {},
     "output_type": "execute_result"
    }
   ],
   "execution_count": 84
  },
  {
   "cell_type": "code",
   "metadata": {
    "ExecuteTime": {
     "end_time": "2025-03-18T16:03:33.849644Z",
     "start_time": "2025-03-18T16:03:33.848354Z"
    }
   },
   "source": [],
   "outputs": [],
   "execution_count": null
  }
 ],
 "metadata": {
  "kernelspec": {
   "display_name": "Python 3",
   "language": "python",
   "name": "python3"
  },
  "language_info": {
   "codemirror_mode": {
    "name": "ipython",
    "version": 3
   },
   "file_extension": ".py",
   "mimetype": "text/x-python",
   "name": "python",
   "nbconvert_exporter": "python",
   "pygments_lexer": "ipython3",
   "version": "3.7.3"
  }
 },
 "nbformat": 4,
 "nbformat_minor": 4
}
