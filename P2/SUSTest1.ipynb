{
 "cells": [
  {
   "metadata": {},
   "cell_type": "markdown",
   "source": "# SUS test of The End of Everything",
   "id": "42abc55900dccc89"
  },
  {
   "metadata": {
    "ExecuteTime": {
     "end_time": "2025-04-04T23:13:54.995969Z",
     "start_time": "2025-04-04T23:13:54.990253Z"
    }
   },
   "cell_type": "code",
   "source": [
    "# Import\n",
    "from scipy import stats\n",
    "from matplotlib import pyplot as plt\n",
    "import numpy as np\n",
    "import re\n",
    "import pandas as pd"
   ],
   "id": "fab2ac7d570581ad",
   "outputs": [],
   "execution_count": 20
  },
  {
   "metadata": {
    "ExecuteTime": {
     "end_time": "2025-04-04T23:13:55.022109Z",
     "start_time": "2025-04-04T23:13:55.017369Z"
    }
   },
   "cell_type": "code",
   "source": [
    "# Load the data\n",
    "df = pd.read_csv(\"Data/SUSTest1_v1.csv\")"
   ],
   "id": "c461df8e9a628fb3",
   "outputs": [],
   "execution_count": 21
  },
  {
   "metadata": {
    "ExecuteTime": {
     "end_time": "2025-04-04T23:13:55.029318Z",
     "start_time": "2025-04-04T23:13:55.025386Z"
    }
   },
   "cell_type": "code",
   "source": [
    "# Clean the data\n",
    "\n",
    "# Extract only the numeric response (e.g., \"4 (Agree)\" → 4)\n",
    "def extract_numeric(response):\n",
    "    match = re.match(r\"(\\d)\", str(response))\n",
    "    return int(match.group(1)) if match else None\n",
    "\n",
    "# Columns corresponding to each SUS statement\n",
    "sus_columns = [\n",
    "    \"STATEMENT 1: “I think that I would like to use this system frequently.”\",\n",
    "    \"STATEMENT 2: “I found the system unnecessarily complex.”\",\n",
    "    \"STATEMENT 3: “I thought the system was easy to use.”\",\n",
    "    \"STATEMENT 4: “I think that I would need the support of a technical person to use this system.”\",\n",
    "    \"STATEMENT 5: “I found the various functions in this system were well integrated.”\",\n",
    "    \"STATEMENT 6: “I thought there was too much inconsistency in this system.”\",\n",
    "    \"STATEMENT 7: “I would imagine that most people would learn to use this system very quickly.”\",\n",
    "    \"STATEMENT 8: “I found the system very cumbersome to use.”\",\n",
    "    \"STATEMENT 9: “I felt very confident using the system.”\",\n",
    "    \"STATEMENT 10: ”I needed to learn a lot of things before I could get going with this system.”\"\n",
    "]\n",
    "\n",
    "# Apply extraction to the SUS columns\n",
    "sus_numeric = df[sus_columns].applymap(extract_numeric)"
   ],
   "id": "bc3ba6d14bae0bf7",
   "outputs": [],
   "execution_count": 22
  },
  {
   "cell_type": "code",
   "id": "initial_id",
   "metadata": {
    "collapsed": true,
    "ExecuteTime": {
     "end_time": "2025-04-04T23:13:55.042850Z",
     "start_time": "2025-04-04T23:13:55.037773Z"
    }
   },
   "source": [
    "# Compute adjusted scores\n",
    "adjusted_scores = sus_numeric.copy()\n",
    "for i in range(10):\n",
    "    if (i + 1) % 2 == 1:  # Odd-numbered (positive) questions\n",
    "        adjusted_scores.iloc[:, i] = sus_numeric.iloc[:, i] - 1\n",
    "    else:  # Even-numbered (negative) questions\n",
    "        adjusted_scores.iloc[:, i] = 5 - sus_numeric.iloc[:, i]\n",
    "\n",
    "# Sum and compute final SUS score\n",
    "df[\"SUS Score\"] = adjusted_scores.sum(axis=1) * 2.5"
   ],
   "outputs": [],
   "execution_count": 23
  },
  {
   "metadata": {
    "ExecuteTime": {
     "end_time": "2025-04-04T23:13:55.057226Z",
     "start_time": "2025-04-04T23:13:55.051461Z"
    }
   },
   "cell_type": "code",
   "source": [
    "# Print the results\n",
    "print(df[[\"SUS Score\"]])\n",
    "df[\"SUS Score\"].describe()"
   ],
   "id": "c60fbdc752727ee8",
   "outputs": [
    {
     "name": "stdout",
     "output_type": "stream",
     "text": [
      "   SUS Score\n",
      "0       75.0\n",
      "1       92.5\n",
      "2       72.5\n",
      "3       92.5\n",
      "4       70.0\n"
     ]
    },
    {
     "data": {
      "text/plain": [
       "count     5.000000\n",
       "mean     80.500000\n",
       "std      11.096171\n",
       "min      70.000000\n",
       "25%      72.500000\n",
       "50%      75.000000\n",
       "75%      92.500000\n",
       "max      92.500000\n",
       "Name: SUS Score, dtype: float64"
      ]
     },
     "execution_count": 24,
     "metadata": {},
     "output_type": "execute_result"
    }
   ],
   "execution_count": 24
  },
  {
   "metadata": {
    "ExecuteTime": {
     "end_time": "2025-04-04T23:13:55.173358Z",
     "start_time": "2025-04-04T23:13:55.126345Z"
    }
   },
   "cell_type": "code",
   "source": [
    "# Plot the results\n",
    "stats.probplot(df[\"SUS Score\"], plot=plt)"
   ],
   "id": "2cb3b12d5bfa0be9",
   "outputs": [
    {
     "data": {
      "text/plain": [
       "((array([-1.12899754, -0.48565271,  0.        ,  0.48565271,  1.12899754]),\n",
       "  array([70. , 72.5, 75. , 92.5, 92.5])),\n",
       " (11.623845906905478, 80.5, 0.9103768902687704))"
      ]
     },
     "execution_count": 25,
     "metadata": {},
     "output_type": "execute_result"
    },
    {
     "data": {
      "text/plain": [
       "<Figure size 432x288 with 1 Axes>"
      ],
      "image/png": "[encoded data removed]"
     },
     "metadata": {
      "needs_background": "light"
     },
     "output_type": "display_data"
    }
   ],
   "execution_count": 25
  },
  {
   "metadata": {
    "ExecuteTime": {
     "end_time": "2025-04-04T23:13:55.249609Z",
     "start_time": "2025-04-04T23:13:55.246686Z"
    }
   },
   "cell_type": "code",
   "source": [
    "# T-test\n",
    "mean = df[\"SUS Score\"].mean()\n",
    "sem = stats.sem(df[\"SUS Score\"])\n",
    "ci = stats.t.interval(0.95, len(df[\"SUS Score\"])-1, loc=mean, scale=sem)\n",
    "print(f\"95% CI: {ci}\")"
   ],
   "id": "d314b33bd3ddb065",
   "outputs": [
    {
     "name": "stdout",
     "output_type": "stream",
     "text": [
      "95% CI: (66.72228455907496, 94.27771544092504)\n"
     ]
    }
   ],
   "execution_count": 26
  }
 ],
 "metadata": {
  "kernelspec": {
   "display_name": "Python 3",
   "language": "python",
   "name": "python3"
  },
  "language_info": {
   "codemirror_mode": {
    "name": "ipython",
    "version": 2
   },
   "file_extension": ".py",
   "mimetype": "text/x-python",
   "name": "python",
   "nbconvert_exporter": "python",
   "pygments_lexer": "ipython2",
   "version": "2.7.6"
  }
 },
 "nbformat": 4,
 "nbformat_minor": 5
}
